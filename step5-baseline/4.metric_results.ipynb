{
 "cells": [
  {
   "cell_type": "code",
   "execution_count": 18,
   "metadata": {},
   "outputs": [
    {
     "data": {
      "text/html": [
       "<div>\n",
       "<style scoped>\n",
       "    .dataframe tbody tr th:only-of-type {\n",
       "        vertical-align: middle;\n",
       "    }\n",
       "\n",
       "    .dataframe tbody tr th {\n",
       "        vertical-align: top;\n",
       "    }\n",
       "\n",
       "    .dataframe thead th {\n",
       "        text-align: right;\n",
       "    }\n",
       "</style>\n",
       "<table border=\"1\" class=\"dataframe\">\n",
       "  <thead>\n",
       "    <tr style=\"text-align: right;\">\n",
       "      <th></th>\n",
       "      <th>en</th>\n",
       "      <th>eu</th>\n",
       "      <th>jp</th>\n",
       "    </tr>\n",
       "  </thead>\n",
       "  <tbody>\n",
       "    <tr>\n",
       "      <th>hits@5</th>\n",
       "      <td>0.654135</td>\n",
       "      <td>0.44</td>\n",
       "      <td>0.203883</td>\n",
       "    </tr>\n",
       "    <tr>\n",
       "      <th>hits@10</th>\n",
       "      <td>0.684211</td>\n",
       "      <td>0.52</td>\n",
       "      <td>0.349515</td>\n",
       "    </tr>\n",
       "  </tbody>\n",
       "</table>\n",
       "</div>"
      ],
      "text/plain": [
       "               en    eu        jp\n",
       "hits@5   0.654135  0.44  0.203883\n",
       "hits@10  0.684211  0.52  0.349515"
      ]
     },
     "execution_count": 18,
     "metadata": {},
     "output_type": "execute_result"
    }
   ],
   "source": [
    "import pandas as pd\n",
    "metric_results = {}\n",
    "llm_type = 'gpt'\n",
    "for dataset_name in ['en', 'eu', 'jp']:\n",
    "    metric_results[dataset_name] = {}\n",
    "    for seed in range(1):\n",
    "        ans = []\n",
    "        for turn in range(8):\n",
    "            df = pd.read_csv(f'results/{dataset_name}/{llm_type}/seed{seed}/result{turn}.csv') \n",
    "            ans.append(df)\n",
    "        ans = pd.concat(ans)\n",
    "        ans.columns = ['job_title', 'job_description', f'{llm_type}_task']\n",
    "    gold = pd.read_csv(f'data/{dataset_name}.csv')[['job_title', 'job_description', 'task']]\n",
    "    ans = pd.merge(gold, ans, on=['job_title', 'job_description'])\n",
    "    ans[f'{llm_type}_task'] = ans[f'{llm_type}_task'].apply(eval)\n",
    "    for k in [5, 10]:\n",
    "        hits_10 = ans.apply(lambda x: x['task'] in x[f'{llm_type}_task'][:k], axis=1).sum() / len(ans)\n",
    "        metric_results[dataset_name][f\"hits@{k}\"] = hits_10\n",
    "pd.DataFrame(metric_results)"
   ]
  },
  {
   "cell_type": "code",
   "execution_count": 7,
   "metadata": {},
   "outputs": [
    {
     "data": {
      "text/html": [
       "<div>\n",
       "<style scoped>\n",
       "    .dataframe tbody tr th:only-of-type {\n",
       "        vertical-align: middle;\n",
       "    }\n",
       "\n",
       "    .dataframe tbody tr th {\n",
       "        vertical-align: top;\n",
       "    }\n",
       "\n",
       "    .dataframe thead th {\n",
       "        text-align: right;\n",
       "    }\n",
       "</style>\n",
       "<table border=\"1\" class=\"dataframe\">\n",
       "  <thead>\n",
       "    <tr style=\"text-align: right;\">\n",
       "      <th></th>\n",
       "      <th>en</th>\n",
       "      <th>eu</th>\n",
       "      <th>jp</th>\n",
       "    </tr>\n",
       "  </thead>\n",
       "  <tbody>\n",
       "    <tr>\n",
       "      <th>hits@5</th>\n",
       "      <td>0.253731</td>\n",
       "      <td>0.138614</td>\n",
       "      <td>0.153846</td>\n",
       "    </tr>\n",
       "    <tr>\n",
       "      <th>hits@10</th>\n",
       "      <td>0.313433</td>\n",
       "      <td>0.217822</td>\n",
       "      <td>0.211538</td>\n",
       "    </tr>\n",
       "  </tbody>\n",
       "</table>\n",
       "</div>"
      ],
      "text/plain": [
       "               en        eu        jp\n",
       "hits@5   0.253731  0.138614  0.153846\n",
       "hits@10  0.313433  0.217822  0.211538"
      ]
     },
     "execution_count": 7,
     "metadata": {},
     "output_type": "execute_result"
    }
   ],
   "source": [
    "import pandas as pd\n",
    "metric_results = {}\n",
    "for dataset_name in ['en', 'eu', 'jp']:\n",
    "    metric_results[dataset_name] = {}\n",
    "    gold = pd.read_csv(f'data/{dataset_name}.csv')\n",
    "    gold['bert_task'] = gold['bert_task'].apply(eval)\n",
    "    for k in [5, 10]:\n",
    "        hits_10 = gold.apply(lambda x: x['task'] in x[f'bert_task'][:k], axis=1).sum() / len(gold)\n",
    "        metric_results[dataset_name][f\"hits@{k}\"] = hits_10\n",
    "pd.DataFrame(metric_results)"
   ]
  }
 ],
 "metadata": {
  "kernelspec": {
   "display_name": "py312",
   "language": "python",
   "name": "python3"
  },
  "language_info": {
   "codemirror_mode": {
    "name": "ipython",
    "version": 3
   },
   "file_extension": ".py",
   "mimetype": "text/x-python",
   "name": "python",
   "nbconvert_exporter": "python",
   "pygments_lexer": "ipython3",
   "version": "3.12.5"
  }
 },
 "nbformat": 4,
 "nbformat_minor": 2
}
