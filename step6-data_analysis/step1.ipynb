{
 "cells": [
  {
   "cell_type": "code",
   "execution_count": 1,
   "metadata": {},
   "outputs": [],
   "source": [
    "import pandas as pd\n",
    "dataset_name = 'en'"
   ]
  },
  {
   "cell_type": "markdown",
   "metadata": {},
   "source": [
    "Job Postings数据统计分析"
   ]
  },
  {
   "cell_type": "code",
   "execution_count": 2,
   "metadata": {},
   "outputs": [
    {
     "name": "stdout",
     "output_type": "stream",
     "text": [
      "The num of title is 72521\n",
      "The num of description is 107827\n"
     ]
    }
   ],
   "source": [
    "job = pd.read_csv(f'../data/{dataset_name}/job_description.csv', sep='\\t')\n",
    "for col in job.columns:\n",
    "    print(f\"The num of {col} is\", job[col].nunique())"
   ]
  },
  {
   "cell_type": "markdown",
   "metadata": {},
   "source": [
    "O*Net数据统计分析"
   ]
  },
  {
   "cell_type": "code",
   "execution_count": 3,
   "metadata": {},
   "outputs": [
    {
     "name": "stdout",
     "output_type": "stream",
     "text": [
      "The num of occupation is 1016\n",
      "The num of task is 17536\n"
     ]
    }
   ],
   "source": [
    "task_occupation = pd.read_csv(f'../data/{dataset_name}/task_occupation.csv', sep='\\t')\n",
    "for col in task_occupation.columns:\n",
    "    print(f\"The num of {col} is\", task_occupation[col].nunique())"
   ]
  },
  {
   "cell_type": "markdown",
   "metadata": {},
   "source": [
    "抽取task之后的数据分布"
   ]
  },
  {
   "cell_type": "code",
   "execution_count": 4,
   "metadata": {},
   "outputs": [
    {
     "name": "stdout",
     "output_type": "stream",
     "text": [
      "The num of title is 53920\n",
      "The num of description is 76226\n",
      "The num of task is 261971\n"
     ]
    }
   ],
   "source": [
    "job_task = pd.read_csv(f'../step2-task_map_occupation/outputs/{dataset_name}/job_task.csv', sep='\\t')\n",
    "for col in job_task.columns:\n",
    "    print(f\"The num of {col} is\", job_task[col].nunique())"
   ]
  },
  {
   "cell_type": "markdown",
   "metadata": {},
   "source": [
    "按照长度10-50内过滤task后的数据分布"
   ]
  },
  {
   "cell_type": "code",
   "execution_count": 5,
   "metadata": {},
   "outputs": [
    {
     "name": "stdout",
     "output_type": "stream",
     "text": [
      "The num of title is 34014\n",
      "The num of description is 103747\n",
      "The num of length is 39\n"
     ]
    }
   ],
   "source": [
    "title_task = pd.read_csv(f'../step2-task_map_occupation/outputs/{dataset_name}/title_task.csv', sep='\\t')\n",
    "for col in title_task.columns:\n",
    "    print(f\"The num of {col} is\", title_task[col].nunique())"
   ]
  },
  {
   "cell_type": "markdown",
   "metadata": {},
   "source": [
    "job title和occupation匹配的结果"
   ]
  },
  {
   "cell_type": "code",
   "execution_count": 6,
   "metadata": {},
   "outputs": [
    {
     "name": "stdout",
     "output_type": "stream",
     "text": [
      "The num of title is 70737\n",
      "The num of occupation is 896\n"
     ]
    }
   ],
   "source": [
    "title_occupation = pd.read_parquet(f'../step4-title_occupation/results/{dataset_name}/seed0.parquet')\n",
    "for col in title_occupation.columns:\n",
    "    print(f\"The num of {col} is\", title_occupation[col].nunique())"
   ]
  },
  {
   "cell_type": "markdown",
   "metadata": {},
   "source": [
    "Task分类的结果"
   ]
  },
  {
   "cell_type": "code",
   "execution_count": 7,
   "metadata": {},
   "outputs": [
    {
     "name": "stdout",
     "output_type": "stream",
     "text": [
      "The num of job title is 32507\n",
      "The num of job description is 97755\n",
      "The num of occupation is 774\n",
      "The num of task is 6728\n",
      "The num of similarity is 32490\n"
     ]
    }
   ],
   "source": [
    "final_job_task = pd.read_csv(f'../step5-task_map_task/results/{dataset_name}/seed0.csv', sep='\\t')\n",
    "for col in final_job_task.columns:\n",
    "    print(f\"The num of {col} is\", final_job_task[col].nunique())"
   ]
  },
  {
   "cell_type": "code",
   "execution_count": 8,
   "metadata": {},
   "outputs": [],
   "source": [
    "import os\n",
    "if not os.path.exists(f'data/{dataset_name}'):\n",
    "    os.makedirs(f'data/{dataset_name}')\n",
    "final_job_task.to_csv(f'data/{dataset_name}/job_task.csv', index=None, sep='\\t')"
   ]
  },
  {
   "cell_type": "code",
   "execution_count": 9,
   "metadata": {},
   "outputs": [
    {
     "data": {
      "text/html": [
       "<div>\n",
       "<style scoped>\n",
       "    .dataframe tbody tr th:only-of-type {\n",
       "        vertical-align: middle;\n",
       "    }\n",
       "\n",
       "    .dataframe tbody tr th {\n",
       "        vertical-align: top;\n",
       "    }\n",
       "\n",
       "    .dataframe thead th {\n",
       "        text-align: right;\n",
       "    }\n",
       "</style>\n",
       "<table border=\"1\" class=\"dataframe\">\n",
       "  <thead>\n",
       "    <tr style=\"text-align: right;\">\n",
       "      <th></th>\n",
       "      <th>job title</th>\n",
       "      <th>job description</th>\n",
       "      <th>occupation</th>\n",
       "      <th>similarity</th>\n",
       "      <th>job num</th>\n",
       "    </tr>\n",
       "    <tr>\n",
       "      <th>task</th>\n",
       "      <th></th>\n",
       "      <th></th>\n",
       "      <th></th>\n",
       "      <th></th>\n",
       "      <th></th>\n",
       "    </tr>\n",
       "  </thead>\n",
       "  <tbody>\n",
       "    <tr>\n",
       "      <th>Develop or update project plans including information such as objectives, technologies, schedules, funding, and staffing.</th>\n",
       "      <td>[Business Continuity Analyst, Project Manageme...</td>\n",
       "      <td>[Assist in the coordination with IT and networ...</td>\n",
       "      <td>[Computer Network Architects, Human Resources ...</td>\n",
       "      <td>[0.905667731, 0.898307254, 0.898080025, 0.8980...</td>\n",
       "      <td>1353</td>\n",
       "    </tr>\n",
       "    <tr>\n",
       "      <th>Plan and direct staffing, training, and performance evaluations to develop and control sales and service programs.</th>\n",
       "      <td>[Public Markets Business Analyst, Quality Cont...</td>\n",
       "      <td>[Develop, execute, and document user test plan...</td>\n",
       "      <td>[Computer Network Architects, Aerospace Engine...</td>\n",
       "      <td>[0.9005516280000002, 0.89933253, 0.898080025, ...</td>\n",
       "      <td>1153</td>\n",
       "    </tr>\n",
       "    <tr>\n",
       "      <th>Establish or implement departmental policies, goals, objectives, or procedures in conjunction with board members, organization officials, or staff members.</th>\n",
       "      <td>[Organizational Development Specialist, System...</td>\n",
       "      <td>[Develop comprehensive strategies to manage or...</td>\n",
       "      <td>[Computer Network Architects, First-Line Super...</td>\n",
       "      <td>[0.906616811, 0.901060061, 0.900503216, 0.8971...</td>\n",
       "      <td>1119</td>\n",
       "    </tr>\n",
       "    <tr>\n",
       "      <th>Communicate with key stakeholders to determine project requirements and objectives.</th>\n",
       "      <td>[Process Improvement Analyst, Supply Chain Man...</td>\n",
       "      <td>[Description \\n\\nSr. Process Improvement type ...</td>\n",
       "      <td>[Computer Network Architects, Human Resources ...</td>\n",
       "      <td>[0.903960851, 0.900313431, 0.899434562, 0.8980...</td>\n",
       "      <td>784</td>\n",
       "    </tr>\n",
       "    <tr>\n",
       "      <th>Prepare and submit budget estimates, progress reports, or cost tracking reports.</th>\n",
       "      <td>[Financial Data Analyst, Production Planning A...</td>\n",
       "      <td>[Develop and maintain forecasting databases/to...</td>\n",
       "      <td>[Computer Network Architects, First-Line Super...</td>\n",
       "      <td>[0.901418308, 0.8993200869999999, 0.8975870239...</td>\n",
       "      <td>747</td>\n",
       "    </tr>\n",
       "    <tr>\n",
       "      <th>...</th>\n",
       "      <td>...</td>\n",
       "      <td>...</td>\n",
       "      <td>...</td>\n",
       "      <td>...</td>\n",
       "      <td>...</td>\n",
       "    </tr>\n",
       "    <tr>\n",
       "      <th>Adapt the quantity of ingredients to match the amount of items to be baked.</th>\n",
       "      <td>[Cook]</td>\n",
       "      <td>[Complete daily prep list, maintain station th...</td>\n",
       "      <td>[Bakers]</td>\n",
       "      <td>[0.804752212]</td>\n",
       "      <td>1</td>\n",
       "    </tr>\n",
       "    <tr>\n",
       "      <th>Write prescriptions for antibiotics or other medications.</th>\n",
       "      <td>[Quality Manager]</td>\n",
       "      <td>[Develop key internal relationships, with the ...</td>\n",
       "      <td>[Quality Control Analysts]</td>\n",
       "      <td>[0.8608092559999999]</td>\n",
       "      <td>1</td>\n",
       "    </tr>\n",
       "    <tr>\n",
       "      <th>Manage business aspects such as employing or supervising staff or handling paperwork or insurance claims.</th>\n",
       "      <td>[Implementation Senior Project Manager]</td>\n",
       "      <td>[Manage full SaaS implementation, from initiat...</td>\n",
       "      <td>[Project Management Specialists]</td>\n",
       "      <td>[0.8424080120000002]</td>\n",
       "      <td>1</td>\n",
       "    </tr>\n",
       "    <tr>\n",
       "      <th>Manage the daily operations of recreational facilities.</th>\n",
       "      <td>[Election Coordinator]</td>\n",
       "      <td>[The ND Office of the Secretary of State is se...</td>\n",
       "      <td>[Regulatory Affairs Managers]</td>\n",
       "      <td>[0.828374698]</td>\n",
       "      <td>1</td>\n",
       "    </tr>\n",
       "    <tr>\n",
       "      <th>Manage reserve materials by placing items on reserve for library patrons, checking items in and out of library, and removing out-of-date items.</th>\n",
       "      <td>[Library Assistant]</td>\n",
       "      <td>[The Bernardsville Public Library in is seekin...</td>\n",
       "      <td>[Library Assistants, Clerical]</td>\n",
       "      <td>[0.847810723]</td>\n",
       "      <td>1</td>\n",
       "    </tr>\n",
       "  </tbody>\n",
       "</table>\n",
       "<p>6728 rows × 5 columns</p>\n",
       "</div>"
      ],
      "text/plain": [
       "                                                                                            job title  \\\n",
       "task                                                                                                    \n",
       "Develop or update project plans including infor...  [Business Continuity Analyst, Project Manageme...   \n",
       "Plan and direct staffing, training, and perform...  [Public Markets Business Analyst, Quality Cont...   \n",
       "Establish or implement departmental policies, g...  [Organizational Development Specialist, System...   \n",
       "Communicate with key stakeholders to determine ...  [Process Improvement Analyst, Supply Chain Man...   \n",
       "Prepare and submit budget estimates, progress r...  [Financial Data Analyst, Production Planning A...   \n",
       "...                                                                                               ...   \n",
       "Adapt the quantity of ingredients to match the ...                                             [Cook]   \n",
       "Write prescriptions for antibiotics or other me...                                  [Quality Manager]   \n",
       "Manage business aspects such as employing or su...            [Implementation Senior Project Manager]   \n",
       "Manage the daily operations of recreational fac...                             [Election Coordinator]   \n",
       "Manage reserve materials by placing items on re...                                [Library Assistant]   \n",
       "\n",
       "                                                                                      job description  \\\n",
       "task                                                                                                    \n",
       "Develop or update project plans including infor...  [Assist in the coordination with IT and networ...   \n",
       "Plan and direct staffing, training, and perform...  [Develop, execute, and document user test plan...   \n",
       "Establish or implement departmental policies, g...  [Develop comprehensive strategies to manage or...   \n",
       "Communicate with key stakeholders to determine ...  [Description \\n\\nSr. Process Improvement type ...   \n",
       "Prepare and submit budget estimates, progress r...  [Develop and maintain forecasting databases/to...   \n",
       "...                                                                                               ...   \n",
       "Adapt the quantity of ingredients to match the ...  [Complete daily prep list, maintain station th...   \n",
       "Write prescriptions for antibiotics or other me...  [Develop key internal relationships, with the ...   \n",
       "Manage business aspects such as employing or su...  [Manage full SaaS implementation, from initiat...   \n",
       "Manage the daily operations of recreational fac...  [The ND Office of the Secretary of State is se...   \n",
       "Manage reserve materials by placing items on re...  [The Bernardsville Public Library in is seekin...   \n",
       "\n",
       "                                                                                           occupation  \\\n",
       "task                                                                                                    \n",
       "Develop or update project plans including infor...  [Computer Network Architects, Human Resources ...   \n",
       "Plan and direct staffing, training, and perform...  [Computer Network Architects, Aerospace Engine...   \n",
       "Establish or implement departmental policies, g...  [Computer Network Architects, First-Line Super...   \n",
       "Communicate with key stakeholders to determine ...  [Computer Network Architects, Human Resources ...   \n",
       "Prepare and submit budget estimates, progress r...  [Computer Network Architects, First-Line Super...   \n",
       "...                                                                                               ...   \n",
       "Adapt the quantity of ingredients to match the ...                                           [Bakers]   \n",
       "Write prescriptions for antibiotics or other me...                         [Quality Control Analysts]   \n",
       "Manage business aspects such as employing or su...                   [Project Management Specialists]   \n",
       "Manage the daily operations of recreational fac...                      [Regulatory Affairs Managers]   \n",
       "Manage reserve materials by placing items on re...                     [Library Assistants, Clerical]   \n",
       "\n",
       "                                                                                           similarity  \\\n",
       "task                                                                                                    \n",
       "Develop or update project plans including infor...  [0.905667731, 0.898307254, 0.898080025, 0.8980...   \n",
       "Plan and direct staffing, training, and perform...  [0.9005516280000002, 0.89933253, 0.898080025, ...   \n",
       "Establish or implement departmental policies, g...  [0.906616811, 0.901060061, 0.900503216, 0.8971...   \n",
       "Communicate with key stakeholders to determine ...  [0.903960851, 0.900313431, 0.899434562, 0.8980...   \n",
       "Prepare and submit budget estimates, progress r...  [0.901418308, 0.8993200869999999, 0.8975870239...   \n",
       "...                                                                                               ...   \n",
       "Adapt the quantity of ingredients to match the ...                                      [0.804752212]   \n",
       "Write prescriptions for antibiotics or other me...                               [0.8608092559999999]   \n",
       "Manage business aspects such as employing or su...                               [0.8424080120000002]   \n",
       "Manage the daily operations of recreational fac...                                      [0.828374698]   \n",
       "Manage reserve materials by placing items on re...                                      [0.847810723]   \n",
       "\n",
       "                                                    job num  \n",
       "task                                                         \n",
       "Develop or update project plans including infor...     1353  \n",
       "Plan and direct staffing, training, and perform...     1153  \n",
       "Establish or implement departmental policies, g...     1119  \n",
       "Communicate with key stakeholders to determine ...      784  \n",
       "Prepare and submit budget estimates, progress r...      747  \n",
       "...                                                     ...  \n",
       "Adapt the quantity of ingredients to match the ...        1  \n",
       "Write prescriptions for antibiotics or other me...        1  \n",
       "Manage business aspects such as employing or su...        1  \n",
       "Manage the daily operations of recreational fac...        1  \n",
       "Manage reserve materials by placing items on re...        1  \n",
       "\n",
       "[6728 rows x 5 columns]"
      ]
     },
     "execution_count": 9,
     "metadata": {},
     "output_type": "execute_result"
    }
   ],
   "source": [
    "final_job_task_group = final_job_task.groupby('task').agg(list)\n",
    "final_job_task_group['occupation'] = final_job_task_group['occupation'].apply(set).apply(list)\n",
    "final_job_task_group['job num'] = final_job_task_group['job description'].apply(len)\n",
    "final_job_task_group = final_job_task_group.sort_values('job num', ascending=False)\n",
    "final_job_task_group"
   ]
  },
  {
   "cell_type": "code",
   "execution_count": 16,
   "metadata": {},
   "outputs": [],
   "source": [
    "if not os.path.exists(f\"outputs/{dataset_name}\"):\n",
    "    os.makedirs(f\"outputs/{dataset_name}\")\n",
    "for col in final_job_task_group.columns:\n",
    "    if 'num' not in col:\n",
    "        final_job_task_group[col] = final_job_task_group[col].apply(lambda x: list(set(x)))\n",
    "final_job_task_group.to_excel(f\"outputs/{dataset_name}/{dataset_name}_job_task.xlsx\")"
   ]
  },
  {
   "cell_type": "code",
   "execution_count": 10,
   "metadata": {},
   "outputs": [
    {
     "data": {
      "text/html": [
       "<div>\n",
       "<style scoped>\n",
       "    .dataframe tbody tr th:only-of-type {\n",
       "        vertical-align: middle;\n",
       "    }\n",
       "\n",
       "    .dataframe tbody tr th {\n",
       "        vertical-align: top;\n",
       "    }\n",
       "\n",
       "    .dataframe thead th {\n",
       "        text-align: right;\n",
       "    }\n",
       "</style>\n",
       "<table border=\"1\" class=\"dataframe\">\n",
       "  <thead>\n",
       "    <tr style=\"text-align: right;\">\n",
       "      <th></th>\n",
       "      <th>job title</th>\n",
       "      <th>job description</th>\n",
       "      <th>occupation</th>\n",
       "      <th>similarity</th>\n",
       "      <th>job num</th>\n",
       "    </tr>\n",
       "    <tr>\n",
       "      <th>task</th>\n",
       "      <th></th>\n",
       "      <th></th>\n",
       "      <th></th>\n",
       "      <th></th>\n",
       "      <th></th>\n",
       "    </tr>\n",
       "  </thead>\n",
       "  <tbody>\n",
       "    <tr>\n",
       "      <th>Develop or update project plans including information such as objectives, technologies, schedules, funding, and staffing.</th>\n",
       "      <td>[Business Continuity Analyst, Project Manageme...</td>\n",
       "      <td>[Assist in the coordination with IT and networ...</td>\n",
       "      <td>[Computer Network Architects, Human Resources ...</td>\n",
       "      <td>[0.905667731, 0.898307254, 0.898080025, 0.8980...</td>\n",
       "      <td>1353</td>\n",
       "    </tr>\n",
       "    <tr>\n",
       "      <th>Plan and direct staffing, training, and performance evaluations to develop and control sales and service programs.</th>\n",
       "      <td>[Public Markets Business Analyst, Quality Cont...</td>\n",
       "      <td>[Develop, execute, and document user test plan...</td>\n",
       "      <td>[Computer Network Architects, Aerospace Engine...</td>\n",
       "      <td>[0.9005516280000002, 0.89933253, 0.898080025, ...</td>\n",
       "      <td>1153</td>\n",
       "    </tr>\n",
       "    <tr>\n",
       "      <th>Establish or implement departmental policies, goals, objectives, or procedures in conjunction with board members, organization officials, or staff members.</th>\n",
       "      <td>[Organizational Development Specialist, System...</td>\n",
       "      <td>[Develop comprehensive strategies to manage or...</td>\n",
       "      <td>[Computer Network Architects, First-Line Super...</td>\n",
       "      <td>[0.906616811, 0.901060061, 0.900503216, 0.8971...</td>\n",
       "      <td>1119</td>\n",
       "    </tr>\n",
       "    <tr>\n",
       "      <th>Communicate with key stakeholders to determine project requirements and objectives.</th>\n",
       "      <td>[Process Improvement Analyst, Supply Chain Man...</td>\n",
       "      <td>[Description \\n\\nSr. Process Improvement type ...</td>\n",
       "      <td>[Computer Network Architects, Human Resources ...</td>\n",
       "      <td>[0.903960851, 0.900313431, 0.899434562, 0.8980...</td>\n",
       "      <td>784</td>\n",
       "    </tr>\n",
       "    <tr>\n",
       "      <th>Prepare and submit budget estimates, progress reports, or cost tracking reports.</th>\n",
       "      <td>[Financial Data Analyst, Production Planning A...</td>\n",
       "      <td>[Develop and maintain forecasting databases/to...</td>\n",
       "      <td>[Computer Network Architects, First-Line Super...</td>\n",
       "      <td>[0.901418308, 0.8993200869999999, 0.8975870239...</td>\n",
       "      <td>747</td>\n",
       "    </tr>\n",
       "    <tr>\n",
       "      <th>...</th>\n",
       "      <td>...</td>\n",
       "      <td>...</td>\n",
       "      <td>...</td>\n",
       "      <td>...</td>\n",
       "      <td>...</td>\n",
       "    </tr>\n",
       "    <tr>\n",
       "      <th>Consult with medical, business, and community groups to discuss service problems, respond to community needs, enhance public relations, coordinate activities and plans, and promote health programs.</th>\n",
       "      <td>[Marketing Communications Manager, Marketing C...</td>\n",
       "      <td>[Managing the development and execution of the...</td>\n",
       "      <td>[Command and Control Center Specialists, Wind ...</td>\n",
       "      <td>[0.8832764550000001, 0.8832764550000001, 0.878...</td>\n",
       "      <td>41</td>\n",
       "    </tr>\n",
       "    <tr>\n",
       "      <th>Keep records of maintenance and repair work.</th>\n",
       "      <td>[Customer Success Manager, Mechanical Service ...</td>\n",
       "      <td>[Manage the details of each account, including...</td>\n",
       "      <td>[Sales Managers, Wind Energy Operations Manage...</td>\n",
       "      <td>[0.889644645, 0.884328808, 0.8750674540000001,...</td>\n",
       "      <td>41</td>\n",
       "    </tr>\n",
       "    <tr>\n",
       "      <th>Develop databases that support Web applications and Web sites.</th>\n",
       "      <td>[Marketing Business Development Manager, Corpo...</td>\n",
       "      <td>[Develop and maintain inventory of branded mer...</td>\n",
       "      <td>[Health Informatics Specialists, Computer Scie...</td>\n",
       "      <td>[0.8859837100000002, 0.879716098, 0.878300011,...</td>\n",
       "      <td>41</td>\n",
       "    </tr>\n",
       "    <tr>\n",
       "      <th>Compare models using statistical performance metrics, such as loss functions or proportion of explained variance.</th>\n",
       "      <td>[Data Analyst, Data Analyst, Data Analyst, Pal...</td>\n",
       "      <td>[Participate in the improvement of performance...</td>\n",
       "      <td>[General and Operations Managers, Computer Sys...</td>\n",
       "      <td>[0.8975870239999999, 0.8975870239999999, 0.897...</td>\n",
       "      <td>41</td>\n",
       "    </tr>\n",
       "    <tr>\n",
       "      <th>Confer with users to discuss issues such as computer data access needs, security violations, and programming changes.</th>\n",
       "      <td>[Information Assurance Analyst, Information Se...</td>\n",
       "      <td>[Support multiple systems and function interch...</td>\n",
       "      <td>[Information Security Analysts, Computer Netwo...</td>\n",
       "      <td>[0.8983959590000001, 0.894990593, 0.877034325,...</td>\n",
       "      <td>41</td>\n",
       "    </tr>\n",
       "  </tbody>\n",
       "</table>\n",
       "<p>482 rows × 5 columns</p>\n",
       "</div>"
      ],
      "text/plain": [
       "                                                                                            job title  \\\n",
       "task                                                                                                    \n",
       "Develop or update project plans including infor...  [Business Continuity Analyst, Project Manageme...   \n",
       "Plan and direct staffing, training, and perform...  [Public Markets Business Analyst, Quality Cont...   \n",
       "Establish or implement departmental policies, g...  [Organizational Development Specialist, System...   \n",
       "Communicate with key stakeholders to determine ...  [Process Improvement Analyst, Supply Chain Man...   \n",
       "Prepare and submit budget estimates, progress r...  [Financial Data Analyst, Production Planning A...   \n",
       "...                                                                                               ...   \n",
       "Consult with medical, business, and community g...  [Marketing Communications Manager, Marketing C...   \n",
       "Keep records of maintenance and repair work.        [Customer Success Manager, Mechanical Service ...   \n",
       "Develop databases that support Web applications...  [Marketing Business Development Manager, Corpo...   \n",
       "Compare models using statistical performance me...  [Data Analyst, Data Analyst, Data Analyst, Pal...   \n",
       "Confer with users to discuss issues such as com...  [Information Assurance Analyst, Information Se...   \n",
       "\n",
       "                                                                                      job description  \\\n",
       "task                                                                                                    \n",
       "Develop or update project plans including infor...  [Assist in the coordination with IT and networ...   \n",
       "Plan and direct staffing, training, and perform...  [Develop, execute, and document user test plan...   \n",
       "Establish or implement departmental policies, g...  [Develop comprehensive strategies to manage or...   \n",
       "Communicate with key stakeholders to determine ...  [Description \\n\\nSr. Process Improvement type ...   \n",
       "Prepare and submit budget estimates, progress r...  [Develop and maintain forecasting databases/to...   \n",
       "...                                                                                               ...   \n",
       "Consult with medical, business, and community g...  [Managing the development and execution of the...   \n",
       "Keep records of maintenance and repair work.        [Manage the details of each account, including...   \n",
       "Develop databases that support Web applications...  [Develop and maintain inventory of branded mer...   \n",
       "Compare models using statistical performance me...  [Participate in the improvement of performance...   \n",
       "Confer with users to discuss issues such as com...  [Support multiple systems and function interch...   \n",
       "\n",
       "                                                                                           occupation  \\\n",
       "task                                                                                                    \n",
       "Develop or update project plans including infor...  [Computer Network Architects, Human Resources ...   \n",
       "Plan and direct staffing, training, and perform...  [Computer Network Architects, Aerospace Engine...   \n",
       "Establish or implement departmental policies, g...  [Computer Network Architects, First-Line Super...   \n",
       "Communicate with key stakeholders to determine ...  [Computer Network Architects, Human Resources ...   \n",
       "Prepare and submit budget estimates, progress r...  [Computer Network Architects, First-Line Super...   \n",
       "...                                                                                               ...   \n",
       "Consult with medical, business, and community g...  [Command and Control Center Specialists, Wind ...   \n",
       "Keep records of maintenance and repair work.        [Sales Managers, Wind Energy Operations Manage...   \n",
       "Develop databases that support Web applications...  [Health Informatics Specialists, Computer Scie...   \n",
       "Compare models using statistical performance me...  [General and Operations Managers, Computer Sys...   \n",
       "Confer with users to discuss issues such as com...  [Information Security Analysts, Computer Netwo...   \n",
       "\n",
       "                                                                                           similarity  \\\n",
       "task                                                                                                    \n",
       "Develop or update project plans including infor...  [0.905667731, 0.898307254, 0.898080025, 0.8980...   \n",
       "Plan and direct staffing, training, and perform...  [0.9005516280000002, 0.89933253, 0.898080025, ...   \n",
       "Establish or implement departmental policies, g...  [0.906616811, 0.901060061, 0.900503216, 0.8971...   \n",
       "Communicate with key stakeholders to determine ...  [0.903960851, 0.900313431, 0.899434562, 0.8980...   \n",
       "Prepare and submit budget estimates, progress r...  [0.901418308, 0.8993200869999999, 0.8975870239...   \n",
       "...                                                                                               ...   \n",
       "Consult with medical, business, and community g...  [0.8832764550000001, 0.8832764550000001, 0.878...   \n",
       "Keep records of maintenance and repair work.        [0.889644645, 0.884328808, 0.8750674540000001,...   \n",
       "Develop databases that support Web applications...  [0.8859837100000002, 0.879716098, 0.878300011,...   \n",
       "Compare models using statistical performance me...  [0.8975870239999999, 0.8975870239999999, 0.897...   \n",
       "Confer with users to discuss issues such as com...  [0.8983959590000001, 0.894990593, 0.877034325,...   \n",
       "\n",
       "                                                    job num  \n",
       "task                                                         \n",
       "Develop or update project plans including infor...     1353  \n",
       "Plan and direct staffing, training, and perform...     1153  \n",
       "Establish or implement departmental policies, g...     1119  \n",
       "Communicate with key stakeholders to determine ...      784  \n",
       "Prepare and submit budget estimates, progress r...      747  \n",
       "...                                                     ...  \n",
       "Consult with medical, business, and community g...       41  \n",
       "Keep records of maintenance and repair work.             41  \n",
       "Develop databases that support Web applications...       41  \n",
       "Compare models using statistical performance me...       41  \n",
       "Confer with users to discuss issues such as com...       41  \n",
       "\n",
       "[482 rows x 5 columns]"
      ]
     },
     "execution_count": 10,
     "metadata": {},
     "output_type": "execute_result"
    }
   ],
   "source": [
    "final_job_task_group[final_job_task_group['job num']>40]"
   ]
  },
  {
   "cell_type": "code",
   "execution_count": 11,
   "metadata": {},
   "outputs": [
    {
     "data": {
      "image/png": "[encoded data removed]",
      "text/plain": [
       "<Figure size 640x480 with 1 Axes>"
      ]
     },
     "metadata": {},
     "output_type": "display_data"
    }
   ],
   "source": [
    "import matplotlib.pyplot as plt\n",
    "num_list =  final_job_task_group['job num']\n",
    "num_list = sorted(num_list)\n",
    "plt.rcParams['font.size'] = 10\n",
    "plt.plot(num_list)\n",
    "plt.xlabel('task', fontsize=14)\n",
    "plt.ylabel('Number of JD', fontsize=14)\n",
    "plt.show()"
   ]
  }
 ],
 "metadata": {
  "kernelspec": {
   "display_name": "py312",
   "language": "python",
   "name": "python3"
  },
  "language_info": {
   "codemirror_mode": {
    "name": "ipython",
    "version": 3
   },
   "file_extension": ".py",
   "mimetype": "text/x-python",
   "name": "python",
   "nbconvert_exporter": "python",
   "pygments_lexer": "ipython3",
   "version": "3.12.5"
  }
 },
 "nbformat": 4,
 "nbformat_minor": 2
}
