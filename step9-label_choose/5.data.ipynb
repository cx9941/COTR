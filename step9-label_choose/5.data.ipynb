{
 "cells": [
  {
   "cell_type": "code",
   "execution_count": 15,
   "metadata": {},
   "outputs": [],
   "source": [
    "import pandas as pd\n",
    "step1_seg_seg = pd.read_excel('/data/chenxi/research/conference/TMIS/COTR/step9-label_choose/outputs/step1/key_extraction.xlsx')\n",
    "step1_ori_seg = pd.read_excel('/data/chenxi/research/conference/TMIS/COTR/step9-label_choose/outputs/step1/key_extraction_fromjd.xlsx')\n",
    "step2_ori_jd = pd.read_excel('/data/chenxi/research/conference/TMIS/COTR/step9-label_choose/outputs/step2/key_extraction_jd_ori.xlsx')\n",
    "step2_seg_jd = pd.read_excel('/data/chenxi/research/conference/TMIS/COTR/step9-label_choose/outputs/step2/key_extraction_jd_seg.xlsx')"
   ]
  },
  {
   "cell_type": "code",
   "execution_count": 31,
   "metadata": {},
   "outputs": [],
   "source": [
    "df = pd.concat([step1_seg_seg, step1_ori_seg, step2_ori_jd, step2_seg_jd])\n",
    "df = df[~df['job_description'].isna()]\n",
    "df = df.sample(3478)"
   ]
  },
  {
   "cell_type": "code",
   "execution_count": 48,
   "metadata": {},
   "outputs": [
    {
     "data": {
      "text/plain": [
       "3041"
      ]
     },
     "execution_count": 48,
     "metadata": {},
     "output_type": "execute_result"
    }
   ],
   "source": [
    "df['job_title'].nunique()"
   ]
  },
  {
   "cell_type": "code",
   "execution_count": 32,
   "metadata": {},
   "outputs": [],
   "source": [
    "rule = \"|\".join(df['job_description'].tolist())\n",
    "rule = rf\"{rule}\""
   ]
  },
  {
   "cell_type": "code",
   "execution_count": 27,
   "metadata": {},
   "outputs": [
    {
     "data": {
      "text/html": [
       "<div>\n",
       "<style scoped>\n",
       "    .dataframe tbody tr th:only-of-type {\n",
       "        vertical-align: middle;\n",
       "    }\n",
       "\n",
       "    .dataframe tbody tr th {\n",
       "        vertical-align: top;\n",
       "    }\n",
       "\n",
       "    .dataframe thead th {\n",
       "        text-align: right;\n",
       "    }\n",
       "</style>\n",
       "<table border=\"1\" class=\"dataframe\">\n",
       "  <thead>\n",
       "    <tr style=\"text-align: right;\">\n",
       "      <th></th>\n",
       "      <th>job_title</th>\n",
       "      <th>job_description</th>\n",
       "    </tr>\n",
       "  </thead>\n",
       "  <tbody>\n",
       "    <tr>\n",
       "      <th>0</th>\n",
       "      <td>Marketing Coordinator</td>\n",
       "      <td>Job descriptionA leading real estate firm in N...</td>\n",
       "    </tr>\n",
       "    <tr>\n",
       "      <th>1</th>\n",
       "      <td>Mental Health Therapist/Counselor</td>\n",
       "      <td>At Aspen Therapy and Wellness , we are committ...</td>\n",
       "    </tr>\n",
       "    <tr>\n",
       "      <th>2</th>\n",
       "      <td>Assitant Restaurant Manager</td>\n",
       "      <td>The National Exemplar is accepting application...</td>\n",
       "    </tr>\n",
       "    <tr>\n",
       "      <th>3</th>\n",
       "      <td>Senior Elder Law / Trusts and Estates Associat...</td>\n",
       "      <td>Senior Associate Attorney - Elder Law / Trusts...</td>\n",
       "    </tr>\n",
       "    <tr>\n",
       "      <th>4</th>\n",
       "      <td>Service Technician</td>\n",
       "      <td>Looking for HVAC service tech with experience ...</td>\n",
       "    </tr>\n",
       "    <tr>\n",
       "      <th>...</th>\n",
       "      <td>...</td>\n",
       "      <td>...</td>\n",
       "    </tr>\n",
       "    <tr>\n",
       "      <th>107822</th>\n",
       "      <td>Title IX/Investigations Attorney</td>\n",
       "      <td>Our Walnut Creek office is currently seeking a...</td>\n",
       "    </tr>\n",
       "    <tr>\n",
       "      <th>107823</th>\n",
       "      <td>Staff Software Engineer, ML Serving Platform</td>\n",
       "      <td>About Pinterest:\\n\\nMillions of people across ...</td>\n",
       "    </tr>\n",
       "    <tr>\n",
       "      <th>107824</th>\n",
       "      <td>Account Executive, Oregon/Washington</td>\n",
       "      <td>Company Overview\\n\\nEPS Learning is a leading ...</td>\n",
       "    </tr>\n",
       "    <tr>\n",
       "      <th>107825</th>\n",
       "      <td>Business Development Manager</td>\n",
       "      <td>The Business Development Manager is a 'hunter'...</td>\n",
       "    </tr>\n",
       "    <tr>\n",
       "      <th>107826</th>\n",
       "      <td>Marketing Social Media Specialist</td>\n",
       "      <td>Marketing Social Media Specialist - $70k – $75...</td>\n",
       "    </tr>\n",
       "  </tbody>\n",
       "</table>\n",
       "<p>107827 rows × 2 columns</p>\n",
       "</div>"
      ],
      "text/plain": [
       "                                                job_title  \\\n",
       "0                                   Marketing Coordinator   \n",
       "1                       Mental Health Therapist/Counselor   \n",
       "2                             Assitant Restaurant Manager   \n",
       "3       Senior Elder Law / Trusts and Estates Associat...   \n",
       "4                                      Service Technician   \n",
       "...                                                   ...   \n",
       "107822                   Title IX/Investigations Attorney   \n",
       "107823       Staff Software Engineer, ML Serving Platform   \n",
       "107824               Account Executive, Oregon/Washington   \n",
       "107825                       Business Development Manager   \n",
       "107826                  Marketing Social Media Specialist   \n",
       "\n",
       "                                          job_description  \n",
       "0       Job descriptionA leading real estate firm in N...  \n",
       "1       At Aspen Therapy and Wellness , we are committ...  \n",
       "2       The National Exemplar is accepting application...  \n",
       "3       Senior Associate Attorney - Elder Law / Trusts...  \n",
       "4       Looking for HVAC service tech with experience ...  \n",
       "...                                                   ...  \n",
       "107822  Our Walnut Creek office is currently seeking a...  \n",
       "107823  About Pinterest:\\n\\nMillions of people across ...  \n",
       "107824  Company Overview\\n\\nEPS Learning is a leading ...  \n",
       "107825  The Business Development Manager is a 'hunter'...  \n",
       "107826  Marketing Social Media Specialist - $70k – $75...  \n",
       "\n",
       "[107827 rows x 2 columns]"
      ]
     },
     "execution_count": 27,
     "metadata": {},
     "output_type": "execute_result"
    }
   ],
   "source": [
    "origin_df = pd.read_csv('/data/chenxi/research/conference/TMIS/COTR/data/en/job_description.csv', sep='\\t')\n",
    "origin_df"
   ]
  },
  {
   "cell_type": "code",
   "execution_count": 47,
   "metadata": {},
   "outputs": [
    {
     "name": "stderr",
     "output_type": "stream",
     "text": [
      "100%|██████████| 107827/107827 [09:25<00:00, 190.84it/s]\n"
     ]
    },
    {
     "name": "stdout",
     "output_type": "stream",
     "text": [
      "2052\n"
     ]
    },
    {
     "name": "stderr",
     "output_type": "stream",
     "text": [
      "/tmp/ipykernel_3338276/3444883341.py:6: SettingWithCopyWarning: \n",
      "A value is trying to be set on a copy of a slice from a DataFrame.\n",
      "Try using .loc[row_indexer,col_indexer] = value instead\n",
      "\n",
      "See the caveats in the documentation: https://pandas.pydata.org/pandas-docs/stable/user_guide/indexing.html#returning-a-view-versus-a-copy\n",
      "  sub_df['isin'] = sub_df['job_description'].progress_apply(lambda x: [y for y in jd_list if y in x])\n"
     ]
    }
   ],
   "source": [
    "from tqdm import tqdm\n",
    "import re\n",
    "tqdm.pandas()\n",
    "jd_list = df['job_description'].tolist()\n",
    "sub_df = origin_df[:]\n",
    "sub_df['isin'] = sub_df['job_description'].progress_apply(lambda x: [y for y in jd_list if y in x])\n",
    "sub_df = sub_df[sub_df['isin'].apply(len)!=0]\n",
    "print(len(sub_df))"
   ]
  },
  {
   "cell_type": "code",
   "execution_count": 49,
   "metadata": {},
   "outputs": [
    {
     "data": {
      "text/html": [
       "<div>\n",
       "<style scoped>\n",
       "    .dataframe tbody tr th:only-of-type {\n",
       "        vertical-align: middle;\n",
       "    }\n",
       "\n",
       "    .dataframe tbody tr th {\n",
       "        vertical-align: top;\n",
       "    }\n",
       "\n",
       "    .dataframe thead th {\n",
       "        text-align: right;\n",
       "    }\n",
       "</style>\n",
       "<table border=\"1\" class=\"dataframe\">\n",
       "  <thead>\n",
       "    <tr style=\"text-align: right;\">\n",
       "      <th></th>\n",
       "      <th>job_title</th>\n",
       "      <th>job_description</th>\n",
       "      <th>isin</th>\n",
       "    </tr>\n",
       "  </thead>\n",
       "  <tbody>\n",
       "    <tr>\n",
       "      <th>1</th>\n",
       "      <td>Mental Health Therapist/Counselor</td>\n",
       "      <td>At Aspen Therapy and Wellness , we are committ...</td>\n",
       "      <td>[At Aspen Therapy and Wellness , we are commit...</td>\n",
       "    </tr>\n",
       "    <tr>\n",
       "      <th>85</th>\n",
       "      <td>Validation Engineer, Labware LIMS</td>\n",
       "      <td>Validation Engineer, Labware LIMSFoster City, ...</td>\n",
       "      <td>[Validation Engineer, Labware LIMSFoster City,...</td>\n",
       "    </tr>\n",
       "    <tr>\n",
       "      <th>105</th>\n",
       "      <td>Architect/Project Manager</td>\n",
       "      <td>Company DescriptionASA Architects, P.A. is one...</td>\n",
       "      <td>[Company DescriptionASA Architects, P.A. is on...</td>\n",
       "    </tr>\n",
       "    <tr>\n",
       "      <th>167</th>\n",
       "      <td>Brand Representative</td>\n",
       "      <td>Sales Manager – USA – Independent Representati...</td>\n",
       "      <td>[Sales Manager – USA – Independent Representat...</td>\n",
       "    </tr>\n",
       "    <tr>\n",
       "      <th>187</th>\n",
       "      <td>Maintenance Manager</td>\n",
       "      <td>OverviewManage personnel, systems, and operati...</td>\n",
       "      <td>[OverviewManage personnel, systems, and operat...</td>\n",
       "    </tr>\n",
       "    <tr>\n",
       "      <th>...</th>\n",
       "      <td>...</td>\n",
       "      <td>...</td>\n",
       "      <td>...</td>\n",
       "    </tr>\n",
       "    <tr>\n",
       "      <th>107492</th>\n",
       "      <td>Banking Associate - 49th &amp; Madison</td>\n",
       "      <td>Work Location:\\n\\nNew York, New York\\n\\nHours\\...</td>\n",
       "      <td>[Work Location:\\n\\nNew York, New York\\n\\nHours...</td>\n",
       "    </tr>\n",
       "    <tr>\n",
       "      <th>107524</th>\n",
       "      <td>Engineer/Engineering Technologist - Engineer S...</td>\n",
       "      <td>Job Posting End Date\\n\\n04-30-2024\\n\\nPlease n...</td>\n",
       "      <td>[Job Posting End Date\\n\\n04-30-2024\\n\\nPlease ...</td>\n",
       "    </tr>\n",
       "    <tr>\n",
       "      <th>107547</th>\n",
       "      <td>Quality Assurance Manager - GMP</td>\n",
       "      <td>You will be a proactive partner with the exter...</td>\n",
       "      <td>[You will be a proactive partner with the exte...</td>\n",
       "    </tr>\n",
       "    <tr>\n",
       "      <th>107667</th>\n",
       "      <td>Unit Secretary - Emergency Department</td>\n",
       "      <td>Job Description Summary\\n\\nGreets patients, vi...</td>\n",
       "      <td>[Job Description Summary\\n\\nGreets patients, v...</td>\n",
       "    </tr>\n",
       "    <tr>\n",
       "      <th>107688</th>\n",
       "      <td>iOS Developer</td>\n",
       "      <td>VW. Two letters. Endless opportunities. A brig...</td>\n",
       "      <td>[VW. Two letters. Endless opportunities. A bri...</td>\n",
       "    </tr>\n",
       "  </tbody>\n",
       "</table>\n",
       "<p>2052 rows × 3 columns</p>\n",
       "</div>"
      ],
      "text/plain": [
       "                                                job_title  \\\n",
       "1                       Mental Health Therapist/Counselor   \n",
       "85                      Validation Engineer, Labware LIMS   \n",
       "105                             Architect/Project Manager   \n",
       "167                                  Brand Representative   \n",
       "187                                   Maintenance Manager   \n",
       "...                                                   ...   \n",
       "107492                 Banking Associate - 49th & Madison   \n",
       "107524  Engineer/Engineering Technologist - Engineer S...   \n",
       "107547                    Quality Assurance Manager - GMP   \n",
       "107667              Unit Secretary - Emergency Department   \n",
       "107688                                      iOS Developer   \n",
       "\n",
       "                                          job_description  \\\n",
       "1       At Aspen Therapy and Wellness , we are committ...   \n",
       "85      Validation Engineer, Labware LIMSFoster City, ...   \n",
       "105     Company DescriptionASA Architects, P.A. is one...   \n",
       "167     Sales Manager – USA – Independent Representati...   \n",
       "187     OverviewManage personnel, systems, and operati...   \n",
       "...                                                   ...   \n",
       "107492  Work Location:\\n\\nNew York, New York\\n\\nHours\\...   \n",
       "107524  Job Posting End Date\\n\\n04-30-2024\\n\\nPlease n...   \n",
       "107547  You will be a proactive partner with the exter...   \n",
       "107667  Job Description Summary\\n\\nGreets patients, vi...   \n",
       "107688  VW. Two letters. Endless opportunities. A brig...   \n",
       "\n",
       "                                                     isin  \n",
       "1       [At Aspen Therapy and Wellness , we are commit...  \n",
       "85      [Validation Engineer, Labware LIMSFoster City,...  \n",
       "105     [Company DescriptionASA Architects, P.A. is on...  \n",
       "167     [Sales Manager – USA – Independent Representat...  \n",
       "187     [OverviewManage personnel, systems, and operat...  \n",
       "...                                                   ...  \n",
       "107492  [Work Location:\\n\\nNew York, New York\\n\\nHours...  \n",
       "107524  [Job Posting End Date\\n\\n04-30-2024\\n\\nPlease ...  \n",
       "107547  [You will be a proactive partner with the exte...  \n",
       "107667  [Job Description Summary\\n\\nGreets patients, v...  \n",
       "107688  [VW. Two letters. Endless opportunities. A bri...  \n",
       "\n",
       "[2052 rows x 3 columns]"
      ]
     },
     "execution_count": 49,
     "metadata": {},
     "output_type": "execute_result"
    }
   ],
   "source": [
    "sub_df"
   ]
  },
  {
   "cell_type": "code",
   "execution_count": 51,
   "metadata": {},
   "outputs": [
    {
     "data": {
      "text/plain": [
       "1907"
      ]
     },
     "execution_count": 51,
     "metadata": {},
     "output_type": "execute_result"
    }
   ],
   "source": [
    "sub_df['job_title'].nunique()"
   ]
  }
 ],
 "metadata": {
  "kernelspec": {
   "display_name": "py312",
   "language": "python",
   "name": "python3"
  },
  "language_info": {
   "codemirror_mode": {
    "name": "ipython",
    "version": 3
   },
   "file_extension": ".py",
   "mimetype": "text/x-python",
   "name": "python",
   "nbconvert_exporter": "python",
   "pygments_lexer": "ipython3",
   "version": "3.12.4"
  }
 },
 "nbformat": 4,
 "nbformat_minor": 2
}
