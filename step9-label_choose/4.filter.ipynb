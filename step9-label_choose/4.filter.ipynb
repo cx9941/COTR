{
 "cells": [
  {
   "cell_type": "code",
   "execution_count": 2,
   "metadata": {},
   "outputs": [],
   "source": [
    "import pandas as pd\n",
    "dataset_name = 'en'\n",
    "step_turn = 'step2'\n",
    "seg_df = pd.read_excel('../step1-job_task_extraction/results/en/en-job_re_description.xlsx')\n",
    "origin_df = pd.read_csv('../data/en/job_description.csv', sep='\\t')\n",
    "df_map = {'jd_seg':seg_df, 'jd_ori': origin_df}"
   ]
  },
  {
   "cell_type": "code",
   "execution_count": 7,
   "metadata": {},
   "outputs": [
    {
     "data": {
      "text/plain": [
       "{'Read materials to determine needed actions.': 'Data Analysis|Research and Analysis',\n",
       " 'Investigate legal issues': 'Legal Research|Litigation Support|Legal Opinions|Legal Documents',\n",
       " 'Research product safety': 'safety document|safety procedures|food safety',\n",
       " 'Monitor equipment operation to ensure proper functioning.': 'Equipment Monitoring|Preventive Maintenance',\n",
       " 'Mark materials or objects for identification.': 'Labeling|Tagging|Identification',\n",
       " 'Test quality of materials or finished products.': 'Quality Assurance Testing|Material Quality Evaluation|Product Quality Control|Final Product Testing',\n",
       " 'Inspect food products.': 'food safety|Food Quality',\n",
       " 'Test electrical circuits or components for proper functioning.': 'Circuit|Electrical Testing|Electrical components',\n",
       " 'Calculate dimensions of workpieces, products, or equipment.': 'dimensions|Geometric|Blueprint',\n",
       " 'Evaluate student work.': 'Curriculum Development|Student Evaluation|Student Engagement|teaching student|student work|student behavior|Student progress',\n",
       " 'Evaluate employee performance.': 'Employee Performance Review|Work Evaluation|Performance Appraisal|Productivity Assessment',\n",
       " 'Verify mathematical calculations.': 'Mathematical|Data Verification|Statistical Analysis|Calculation|Data Integrity',\n",
       " 'Conduct financial or regulatory audits.': 'Financial Auditing|Financial Reporting',\n",
       " 'Analyze website or related online data to track trends or usage.': 'Web Analytics|User Behavior|user Trend|User Engagement|Conversion Rate Optimization|Behavior Analysis|online market',\n",
       " 'Calculate shipping costs.': 'shipping costs|freight cost|logistics expenses|transportation cost|delivery charges|shipping rate|freight charges|logistics pricing|shipping fee|shipment fees|cost calculation',\n",
       " 'Diagnose dental conditions.': 'dental diagnosis|oral health|teeth examination|gum health|dental care|oral examination|tooth assessment|oral diagnosis|health check|dental condition',\n",
       " 'Design software applications.': 'software design|application development|system design|software engineering|app creation|software architecture|system architecture|application design',\n",
       " 'Design furniture.': 'furniture design|product design|furniture creation|interior design|furniture planning|furniture blueprint|furniture development|concept design',\n",
       " 'Create musical compositions, arrangements or scores.': 'music.*?composition|music.*?arrangement|Creat.*?music|choreograph.*?music|design.*?music|arrange.*?music|music.*?composition|Music.*?Production|mucic.*?creat',\n",
       " 'Choreograph dances.': 'dance.*?choreography|Choreograph.*?dance|dance.*?routines|choreograph.*?performance|design.*?dance|dance.*?movements|choreograph.*?routines|create.*?choreography|dance.*?composition',\n",
       " 'Schedule dining reservations.': 'dining.*?reservation|book.*?table|restaurant.*?booking|reserve.*?table|dining.*?booking|restaurant.*?reservation|table.*?reservation|schedule.*?reservation|dining.*?schedule|meal.*?booking',\n",
       " 'Schedule agricultural or forestry work.': 'Agricultural|Forestry',\n",
       " 'Plan trapping or hunting activities.': 'Hunting|trapping',\n",
       " 'Clean tools or equipment.': 'Tool.*?Cleaning|Equipment.*?Sanitization|Cleaning.*?Protocol|Maintenance.*?Cleaning',\n",
       " 'Cultivate land.': 'Cultivation',\n",
       " 'Cut fabrics.': 'Fabric.*?Cutting|Textile.*?Preparation|Material.*?Sizing|Cloth.*?Cutting',\n",
       " 'Slaughter animals.': 'Animal.*?Processing|Livestock.*?Butchering|Meat.*?Processing|Slaughter.*?Procedures|Slaughter.*?animals|animals.*?Slaughter|kill.*?animals|animals.*?kill|butcher',\n",
       " 'Drive trucks or truck-mounted equipment.': 'Truck.*?Operation|Heavy.*?Vehicle.*?Driving|Equipment.*?Handling|Freight.*?Transport.*?Driving',\n",
       " 'Install computer hardware.': 'Hardware Installation|Technical Setup|Computer Equipment Setup|Device Configuration',\n",
       " 'Repair mechanical equipment.': 'Mechanical Equipment Repair|Machinery Maintenance|Equipment Servicing|Mechanical Troubleshooting',\n",
       " 'Communicate with government agencies.': 'Government.*?Liaison|Agency.*?Communication|Public.*?Sector.*?Coordination|Official.*?Interaction',\n",
       " 'Coordinate activities of production personnel.': 'Production.*?Workflow.*?Coordination|Personnel.*?Activity|Task.*?Scheduling|Production.*?Line.*?Supervision',\n",
       " 'Direct criminal investigations.': 'Criminal.*?Case|Investigation.*?Oversight|Law.*?Enforcement.*?Investigation|Case.*?Direction|criminal.*?investigation',\n",
       " 'Arrange insurance coverage.': 'Insurance.*?Policy|Coverage.*?Planning|Risk.*?Protection|Insurance.*?Consultation',\n",
       " 'Prescribe medications.': 'Medical.*?Prescription|Pharmaceutical.*?Authorization|Drug.*?Prescribing|Medication.*?Administration'}"
      ]
     },
     "execution_count": 7,
     "metadata": {},
     "output_type": "execute_result"
    }
   ],
   "source": [
    "import json\n",
    "task_kind = 'task'\n",
    "task_map = json.load(open(f'data/en/{step_turn}/{task_kind}.json', 'r'))\n",
    "task_rule_map = {i:'|'.join(v) for i,v in task_map.items()}\n",
    "task_rule_map = {i:f\"{v}\" for i,v in task_rule_map.items()}\n",
    "task_rule_map"
   ]
  },
  {
   "cell_type": "code",
   "execution_count": 42,
   "metadata": {},
   "outputs": [
    {
     "name": "stderr",
     "output_type": "stream",
     "text": [
      "  6%|▌         | 2/35 [00:00<00:02, 14.74it/s]"
     ]
    },
    {
     "name": "stdout",
     "output_type": "stream",
     "text": [
      "jd_seg Read materials to determine needed actions. 63\n",
      "jd_seg Investigate legal issues 42\n",
      "jd_seg Research product safety 66\n"
     ]
    },
    {
     "name": "stderr",
     "output_type": "stream",
     "text": [
      " 11%|█▏        | 4/35 [00:00<00:02, 10.47it/s]"
     ]
    },
    {
     "name": "stdout",
     "output_type": "stream",
     "text": [
      "jd_seg Monitor equipment operation to ensure proper functioning. 40\n",
      "jd_seg Mark materials or objects for identification. 89\n"
     ]
    },
    {
     "name": "stderr",
     "output_type": "stream",
     "text": [
      " 20%|██        | 7/35 [00:00<00:03,  9.00it/s]"
     ]
    },
    {
     "name": "stdout",
     "output_type": "stream",
     "text": [
      "jd_seg Test quality of materials or finished products. 3\n",
      "jd_seg Inspect food products. 23\n"
     ]
    },
    {
     "name": "stderr",
     "output_type": "stream",
     "text": [
      " 26%|██▌       | 9/35 [00:00<00:03,  8.40it/s]"
     ]
    },
    {
     "name": "stdout",
     "output_type": "stream",
     "text": [
      "jd_seg Test electrical circuits or components for proper functioning. 31\n",
      "jd_seg Calculate dimensions of workpieces, products, or equipment. 46\n"
     ]
    },
    {
     "name": "stderr",
     "output_type": "stream",
     "text": [
      " 31%|███▏      | 11/35 [00:01<00:03,  6.36it/s]"
     ]
    },
    {
     "name": "stdout",
     "output_type": "stream",
     "text": [
      "jd_seg Evaluate student work. 18\n",
      "jd_seg Evaluate employee performance. 11\n"
     ]
    },
    {
     "name": "stderr",
     "output_type": "stream",
     "text": [
      " 34%|███▍      | 12/35 [00:01<00:03,  6.13it/s]"
     ]
    },
    {
     "name": "stdout",
     "output_type": "stream",
     "text": [
      "jd_seg Verify mathematical calculations. 93\n",
      "jd_seg Conduct financial or regulatory audits. 60\n"
     ]
    },
    {
     "name": "stderr",
     "output_type": "stream",
     "text": [
      " 40%|████      | 14/35 [00:01<00:03,  6.97it/s]"
     ]
    },
    {
     "name": "stdout",
     "output_type": "stream",
     "text": [
      "jd_seg Analyze website or related online data to track trends or usage. 17\n"
     ]
    },
    {
     "name": "stderr",
     "output_type": "stream",
     "text": [
      " 43%|████▎     | 15/35 [00:02<00:03,  5.00it/s]"
     ]
    },
    {
     "name": "stdout",
     "output_type": "stream",
     "text": [
      "jd_seg Calculate shipping costs. 5\n"
     ]
    },
    {
     "name": "stderr",
     "output_type": "stream",
     "text": [
      " 46%|████▌     | 16/35 [00:02<00:04,  4.48it/s]"
     ]
    },
    {
     "name": "stdout",
     "output_type": "stream",
     "text": [
      "jd_seg Diagnose dental conditions. 12\n"
     ]
    },
    {
     "name": "stderr",
     "output_type": "stream",
     "text": [
      " 49%|████▊     | 17/35 [00:02<00:04,  4.03it/s]"
     ]
    },
    {
     "name": "stdout",
     "output_type": "stream",
     "text": [
      "jd_seg Design software applications. 59\n"
     ]
    },
    {
     "name": "stderr",
     "output_type": "stream",
     "text": [
      " 51%|█████▏    | 18/35 [00:03<00:04,  4.11it/s]"
     ]
    },
    {
     "name": "stdout",
     "output_type": "stream",
     "text": [
      "jd_seg Design furniture. 19\n"
     ]
    },
    {
     "name": "stderr",
     "output_type": "stream",
     "text": [
      " 54%|█████▍    | 19/35 [00:03<00:03,  4.11it/s]"
     ]
    },
    {
     "name": "stdout",
     "output_type": "stream",
     "text": [
      "jd_seg Create musical compositions, arrangements or scores. 1\n"
     ]
    },
    {
     "name": "stderr",
     "output_type": "stream",
     "text": [
      " 57%|█████▋    | 20/35 [00:03<00:03,  4.10it/s]"
     ]
    },
    {
     "name": "stdout",
     "output_type": "stream",
     "text": [
      "jd_seg Choreograph dances. 7\n"
     ]
    },
    {
     "name": "stderr",
     "output_type": "stream",
     "text": [
      " 66%|██████▌   | 23/35 [00:04<00:02,  5.55it/s]"
     ]
    },
    {
     "name": "stdout",
     "output_type": "stream",
     "text": [
      "jd_seg Schedule dining reservations. 3\n",
      "jd_seg Schedule agricultural or forestry work. 1\n",
      "jd_seg Plan trapping or hunting activities. 7\n"
     ]
    },
    {
     "name": "stderr",
     "output_type": "stream",
     "text": [
      " 74%|███████▍  | 26/35 [00:04<00:01,  7.34it/s]"
     ]
    },
    {
     "name": "stdout",
     "output_type": "stream",
     "text": [
      "jd_seg Clean tools or equipment. 9\n",
      "jd_seg Cultivate land. 4\n",
      "jd_seg Cut fabrics. 2\n"
     ]
    },
    {
     "name": "stderr",
     "output_type": "stream",
     "text": [
      " 80%|████████  | 28/35 [00:04<00:01,  5.80it/s]"
     ]
    },
    {
     "name": "stdout",
     "output_type": "stream",
     "text": [
      "jd_seg Slaughter animals. 0\n",
      "jd_seg Drive trucks or truck-mounted equipment. 4\n"
     ]
    },
    {
     "name": "stderr",
     "output_type": "stream",
     "text": [
      " 86%|████████▌ | 30/35 [00:05<00:00,  6.45it/s]"
     ]
    },
    {
     "name": "stdout",
     "output_type": "stream",
     "text": [
      "jd_seg Install computer hardware. 1\n",
      "jd_seg Repair mechanical equipment. 1\n"
     ]
    },
    {
     "name": "stderr",
     "output_type": "stream",
     "text": [
      " 91%|█████████▏| 32/35 [00:05<00:00,  6.82it/s]"
     ]
    },
    {
     "name": "stdout",
     "output_type": "stream",
     "text": [
      "jd_seg Communicate with government agencies. 1\n",
      "jd_seg Coordinate activities of production personnel. 13\n"
     ]
    },
    {
     "name": "stderr",
     "output_type": "stream",
     "text": [
      " 97%|█████████▋| 34/35 [00:05<00:00,  6.24it/s]"
     ]
    },
    {
     "name": "stdout",
     "output_type": "stream",
     "text": [
      "jd_seg Direct criminal investigations. 3\n",
      "jd_seg Arrange insurance coverage. 2\n"
     ]
    },
    {
     "name": "stderr",
     "output_type": "stream",
     "text": [
      "100%|██████████| 35/35 [00:05<00:00,  6.01it/s]\n"
     ]
    },
    {
     "name": "stdout",
     "output_type": "stream",
     "text": [
      "jd_seg Prescribe medications. 7\n"
     ]
    },
    {
     "name": "stderr",
     "output_type": "stream",
     "text": [
      "  3%|▎         | 1/35 [00:03<01:45,  3.12s/it]"
     ]
    },
    {
     "name": "stdout",
     "output_type": "stream",
     "text": [
      "jd_ori Read materials to determine needed actions. 2389\n"
     ]
    },
    {
     "name": "stderr",
     "output_type": "stream",
     "text": [
      "  6%|▌         | 2/35 [00:04<01:16,  2.32s/it]"
     ]
    },
    {
     "name": "stdout",
     "output_type": "stream",
     "text": [
      "jd_ori Investigate legal issues 760\n"
     ]
    },
    {
     "name": "stderr",
     "output_type": "stream",
     "text": [
      "  9%|▊         | 3/35 [00:09<01:53,  3.53s/it]"
     ]
    },
    {
     "name": "stdout",
     "output_type": "stream",
     "text": [
      "jd_ori Research product safety 1178\n"
     ]
    },
    {
     "name": "stderr",
     "output_type": "stream",
     "text": [
      " 11%|█▏        | 4/35 [00:12<01:40,  3.25s/it]"
     ]
    },
    {
     "name": "stdout",
     "output_type": "stream",
     "text": [
      "jd_ori Monitor equipment operation to ensure proper functioning. 607\n"
     ]
    },
    {
     "name": "stderr",
     "output_type": "stream",
     "text": [
      " 14%|█▍        | 5/35 [00:17<01:53,  3.80s/it]"
     ]
    },
    {
     "name": "stdout",
     "output_type": "stream",
     "text": [
      "jd_ori Mark materials or objects for identification. 2024\n"
     ]
    },
    {
     "name": "stderr",
     "output_type": "stream",
     "text": [
      " 17%|█▋        | 6/35 [00:21<01:51,  3.84s/it]"
     ]
    },
    {
     "name": "stdout",
     "output_type": "stream",
     "text": [
      "jd_ori Test quality of materials or finished products. 43\n"
     ]
    },
    {
     "name": "stderr",
     "output_type": "stream",
     "text": [
      " 20%|██        | 7/35 [00:24<01:39,  3.57s/it]"
     ]
    },
    {
     "name": "stdout",
     "output_type": "stream",
     "text": [
      "jd_ori Inspect food products. 644\n"
     ]
    },
    {
     "name": "stderr",
     "output_type": "stream",
     "text": [
      " 23%|██▎       | 8/35 [00:28<01:41,  3.75s/it]"
     ]
    },
    {
     "name": "stdout",
     "output_type": "stream",
     "text": [
      "jd_ori Test electrical circuits or components for proper functioning. 1028\n"
     ]
    },
    {
     "name": "stderr",
     "output_type": "stream",
     "text": [
      " 26%|██▌       | 9/35 [00:32<01:37,  3.77s/it]"
     ]
    },
    {
     "name": "stdout",
     "output_type": "stream",
     "text": [
      "jd_ori Calculate dimensions of workpieces, products, or equipment. 1412\n"
     ]
    },
    {
     "name": "stderr",
     "output_type": "stream",
     "text": [
      " 29%|██▊       | 10/35 [00:41<02:19,  5.57s/it]"
     ]
    },
    {
     "name": "stdout",
     "output_type": "stream",
     "text": [
      "jd_ori Evaluate student work. 289\n"
     ]
    },
    {
     "name": "stderr",
     "output_type": "stream",
     "text": [
      " 31%|███▏      | 11/35 [00:46<02:05,  5.22s/it]"
     ]
    },
    {
     "name": "stdout",
     "output_type": "stream",
     "text": [
      "jd_ori Evaluate employee performance. 203\n"
     ]
    },
    {
     "name": "stderr",
     "output_type": "stream",
     "text": [
      " 34%|███▍      | 12/35 [00:52<02:04,  5.42s/it]"
     ]
    },
    {
     "name": "stdout",
     "output_type": "stream",
     "text": [
      "jd_ori Verify mathematical calculations. 2964\n"
     ]
    },
    {
     "name": "stderr",
     "output_type": "stream",
     "text": [
      " 37%|███▋      | 13/35 [00:53<01:33,  4.23s/it]"
     ]
    },
    {
     "name": "stdout",
     "output_type": "stream",
     "text": [
      "jd_ori Conduct financial or regulatory audits. 1114\n"
     ]
    },
    {
     "name": "stderr",
     "output_type": "stream",
     "text": [
      " 40%|████      | 14/35 [01:00<01:46,  5.05s/it]"
     ]
    },
    {
     "name": "stdout",
     "output_type": "stream",
     "text": [
      "jd_ori Analyze website or related online data to track trends or usage. 298\n"
     ]
    },
    {
     "name": "stderr",
     "output_type": "stream",
     "text": [
      " 43%|████▎     | 15/35 [01:12<02:23,  7.19s/it]"
     ]
    },
    {
     "name": "stdout",
     "output_type": "stream",
     "text": [
      "jd_ori Calculate shipping costs. 53\n"
     ]
    },
    {
     "name": "stderr",
     "output_type": "stream",
     "text": [
      " 46%|████▌     | 16/35 [01:21<02:25,  7.66s/it]"
     ]
    },
    {
     "name": "stdout",
     "output_type": "stream",
     "text": [
      "jd_ori Diagnose dental conditions. 756\n"
     ]
    },
    {
     "name": "stderr",
     "output_type": "stream",
     "text": [
      " 49%|████▊     | 17/35 [01:31<02:30,  8.37s/it]"
     ]
    },
    {
     "name": "stdout",
     "output_type": "stream",
     "text": [
      "jd_ori Design software applications. 2355\n"
     ]
    },
    {
     "name": "stderr",
     "output_type": "stream",
     "text": [
      " 51%|█████▏    | 18/35 [01:38<02:16,  8.02s/it]"
     ]
    },
    {
     "name": "stdout",
     "output_type": "stream",
     "text": [
      "jd_ori Design furniture. 612\n"
     ]
    },
    {
     "name": "stderr",
     "output_type": "stream",
     "text": [
      " 54%|█████▍    | 19/35 [01:46<02:06,  7.92s/it]"
     ]
    },
    {
     "name": "stdout",
     "output_type": "stream",
     "text": [
      "jd_ori Create musical compositions, arrangements or scores. 32\n"
     ]
    },
    {
     "name": "stderr",
     "output_type": "stream",
     "text": [
      " 57%|█████▋    | 20/35 [01:53<01:56,  7.76s/it]"
     ]
    },
    {
     "name": "stdout",
     "output_type": "stream",
     "text": [
      "jd_ori Choreograph dances. 154\n"
     ]
    },
    {
     "name": "stderr",
     "output_type": "stream",
     "text": [
      " 60%|██████    | 21/35 [02:03<01:55,  8.25s/it]"
     ]
    },
    {
     "name": "stdout",
     "output_type": "stream",
     "text": [
      "jd_ori Schedule dining reservations. 52\n"
     ]
    },
    {
     "name": "stderr",
     "output_type": "stream",
     "text": [
      " 63%|██████▎   | 22/35 [02:06<01:26,  6.64s/it]"
     ]
    },
    {
     "name": "stdout",
     "output_type": "stream",
     "text": [
      "jd_ori Schedule agricultural or forestry work. 194\n"
     ]
    },
    {
     "name": "stderr",
     "output_type": "stream",
     "text": [
      " 66%|██████▌   | 23/35 [02:09<01:06,  5.52s/it]"
     ]
    },
    {
     "name": "stdout",
     "output_type": "stream",
     "text": [
      "jd_ori Plan trapping or hunting activities. 193\n"
     ]
    },
    {
     "name": "stderr",
     "output_type": "stream",
     "text": [
      " 69%|██████▊   | 24/35 [02:13<00:56,  5.17s/it]"
     ]
    },
    {
     "name": "stdout",
     "output_type": "stream",
     "text": [
      "jd_ori Clean tools or equipment. 171\n"
     ]
    },
    {
     "name": "stderr",
     "output_type": "stream",
     "text": [
      " 71%|███████▏  | 25/35 [02:14<00:40,  4.02s/it]"
     ]
    },
    {
     "name": "stdout",
     "output_type": "stream",
     "text": [
      "jd_ori Cultivate land. 154\n"
     ]
    },
    {
     "name": "stderr",
     "output_type": "stream",
     "text": [
      " 74%|███████▍  | 26/35 [02:18<00:36,  4.07s/it]"
     ]
    },
    {
     "name": "stdout",
     "output_type": "stream",
     "text": [
      "jd_ori Cut fabrics. 18\n"
     ]
    },
    {
     "name": "stderr",
     "output_type": "stream",
     "text": [
      " 77%|███████▋  | 27/35 [02:28<00:45,  5.72s/it]"
     ]
    },
    {
     "name": "stdout",
     "output_type": "stream",
     "text": [
      "jd_ori Slaughter animals. 29\n"
     ]
    },
    {
     "name": "stderr",
     "output_type": "stream",
     "text": [
      " 80%|████████  | 28/35 [02:32<00:36,  5.25s/it]"
     ]
    },
    {
     "name": "stdout",
     "output_type": "stream",
     "text": [
      "jd_ori Drive trucks or truck-mounted equipment. 102\n"
     ]
    },
    {
     "name": "stderr",
     "output_type": "stream",
     "text": [
      " 83%|████████▎ | 29/35 [02:36<00:29,  4.90s/it]"
     ]
    },
    {
     "name": "stdout",
     "output_type": "stream",
     "text": [
      "jd_ori Install computer hardware. 57\n"
     ]
    },
    {
     "name": "stderr",
     "output_type": "stream",
     "text": [
      " 86%|████████▌ | 30/35 [02:40<00:22,  4.55s/it]"
     ]
    },
    {
     "name": "stdout",
     "output_type": "stream",
     "text": [
      "jd_ori Repair mechanical equipment. 48\n"
     ]
    },
    {
     "name": "stderr",
     "output_type": "stream",
     "text": [
      " 89%|████████▊ | 31/35 [02:44<00:17,  4.38s/it]"
     ]
    },
    {
     "name": "stdout",
     "output_type": "stream",
     "text": [
      "jd_ori Communicate with government agencies. 31\n"
     ]
    },
    {
     "name": "stderr",
     "output_type": "stream",
     "text": [
      " 91%|█████████▏| 32/35 [02:48<00:12,  4.28s/it]"
     ]
    },
    {
     "name": "stdout",
     "output_type": "stream",
     "text": [
      "jd_ori Coordinate activities of production personnel. 83\n"
     ]
    },
    {
     "name": "stderr",
     "output_type": "stream",
     "text": [
      " 94%|█████████▍| 33/35 [02:54<00:09,  4.65s/it]"
     ]
    },
    {
     "name": "stdout",
     "output_type": "stream",
     "text": [
      "jd_ori Direct criminal investigations. 68\n"
     ]
    },
    {
     "name": "stderr",
     "output_type": "stream",
     "text": [
      " 97%|█████████▋| 34/35 [02:59<00:04,  4.88s/it]"
     ]
    },
    {
     "name": "stdout",
     "output_type": "stream",
     "text": [
      "jd_ori Arrange insurance coverage. 137\n"
     ]
    },
    {
     "name": "stderr",
     "output_type": "stream",
     "text": [
      "100%|██████████| 35/35 [03:03<00:00,  5.24s/it]"
     ]
    },
    {
     "name": "stdout",
     "output_type": "stream",
     "text": [
      "jd_ori Prescribe medications. 280\n"
     ]
    },
    {
     "name": "stderr",
     "output_type": "stream",
     "text": [
      "\n"
     ]
    },
    {
     "data": {
      "text/html": [
       "<div>\n",
       "<style scoped>\n",
       "    .dataframe tbody tr th:only-of-type {\n",
       "        vertical-align: middle;\n",
       "    }\n",
       "\n",
       "    .dataframe tbody tr th {\n",
       "        vertical-align: top;\n",
       "    }\n",
       "\n",
       "    .dataframe thead th {\n",
       "        text-align: right;\n",
       "    }\n",
       "</style>\n",
       "<table border=\"1\" class=\"dataframe\">\n",
       "  <thead>\n",
       "    <tr style=\"text-align: right;\">\n",
       "      <th></th>\n",
       "      <th>jd_seg</th>\n",
       "      <th>jd_ori</th>\n",
       "    </tr>\n",
       "  </thead>\n",
       "  <tbody>\n",
       "    <tr>\n",
       "      <th>Read materials to determine needed actions.</th>\n",
       "      <td>63</td>\n",
       "      <td>2389</td>\n",
       "    </tr>\n",
       "    <tr>\n",
       "      <th>Investigate legal issues</th>\n",
       "      <td>42</td>\n",
       "      <td>760</td>\n",
       "    </tr>\n",
       "    <tr>\n",
       "      <th>Research product safety</th>\n",
       "      <td>66</td>\n",
       "      <td>1178</td>\n",
       "    </tr>\n",
       "    <tr>\n",
       "      <th>Monitor equipment operation to ensure proper functioning.</th>\n",
       "      <td>40</td>\n",
       "      <td>607</td>\n",
       "    </tr>\n",
       "    <tr>\n",
       "      <th>Mark materials or objects for identification.</th>\n",
       "      <td>89</td>\n",
       "      <td>2024</td>\n",
       "    </tr>\n",
       "    <tr>\n",
       "      <th>Test quality of materials or finished products.</th>\n",
       "      <td>3</td>\n",
       "      <td>43</td>\n",
       "    </tr>\n",
       "    <tr>\n",
       "      <th>Inspect food products.</th>\n",
       "      <td>23</td>\n",
       "      <td>644</td>\n",
       "    </tr>\n",
       "    <tr>\n",
       "      <th>Test electrical circuits or components for proper functioning.</th>\n",
       "      <td>31</td>\n",
       "      <td>1028</td>\n",
       "    </tr>\n",
       "    <tr>\n",
       "      <th>Calculate dimensions of workpieces, products, or equipment.</th>\n",
       "      <td>46</td>\n",
       "      <td>1412</td>\n",
       "    </tr>\n",
       "    <tr>\n",
       "      <th>Evaluate student work.</th>\n",
       "      <td>18</td>\n",
       "      <td>289</td>\n",
       "    </tr>\n",
       "    <tr>\n",
       "      <th>Evaluate employee performance.</th>\n",
       "      <td>11</td>\n",
       "      <td>203</td>\n",
       "    </tr>\n",
       "    <tr>\n",
       "      <th>Verify mathematical calculations.</th>\n",
       "      <td>93</td>\n",
       "      <td>2964</td>\n",
       "    </tr>\n",
       "    <tr>\n",
       "      <th>Conduct financial or regulatory audits.</th>\n",
       "      <td>60</td>\n",
       "      <td>1114</td>\n",
       "    </tr>\n",
       "    <tr>\n",
       "      <th>Analyze website or related online data to track trends or usage.</th>\n",
       "      <td>17</td>\n",
       "      <td>298</td>\n",
       "    </tr>\n",
       "    <tr>\n",
       "      <th>Calculate shipping costs.</th>\n",
       "      <td>5</td>\n",
       "      <td>53</td>\n",
       "    </tr>\n",
       "    <tr>\n",
       "      <th>Diagnose dental conditions.</th>\n",
       "      <td>12</td>\n",
       "      <td>756</td>\n",
       "    </tr>\n",
       "    <tr>\n",
       "      <th>Design software applications.</th>\n",
       "      <td>59</td>\n",
       "      <td>2355</td>\n",
       "    </tr>\n",
       "    <tr>\n",
       "      <th>Design furniture.</th>\n",
       "      <td>19</td>\n",
       "      <td>612</td>\n",
       "    </tr>\n",
       "    <tr>\n",
       "      <th>Create musical compositions, arrangements or scores.</th>\n",
       "      <td>1</td>\n",
       "      <td>32</td>\n",
       "    </tr>\n",
       "    <tr>\n",
       "      <th>Choreograph dances.</th>\n",
       "      <td>7</td>\n",
       "      <td>154</td>\n",
       "    </tr>\n",
       "    <tr>\n",
       "      <th>Schedule dining reservations.</th>\n",
       "      <td>3</td>\n",
       "      <td>52</td>\n",
       "    </tr>\n",
       "    <tr>\n",
       "      <th>Schedule agricultural or forestry work.</th>\n",
       "      <td>1</td>\n",
       "      <td>194</td>\n",
       "    </tr>\n",
       "    <tr>\n",
       "      <th>Plan trapping or hunting activities.</th>\n",
       "      <td>7</td>\n",
       "      <td>193</td>\n",
       "    </tr>\n",
       "    <tr>\n",
       "      <th>Clean tools or equipment.</th>\n",
       "      <td>9</td>\n",
       "      <td>171</td>\n",
       "    </tr>\n",
       "    <tr>\n",
       "      <th>Cultivate land.</th>\n",
       "      <td>4</td>\n",
       "      <td>154</td>\n",
       "    </tr>\n",
       "    <tr>\n",
       "      <th>Cut fabrics.</th>\n",
       "      <td>2</td>\n",
       "      <td>18</td>\n",
       "    </tr>\n",
       "    <tr>\n",
       "      <th>Slaughter animals.</th>\n",
       "      <td>0</td>\n",
       "      <td>29</td>\n",
       "    </tr>\n",
       "    <tr>\n",
       "      <th>Drive trucks or truck-mounted equipment.</th>\n",
       "      <td>4</td>\n",
       "      <td>102</td>\n",
       "    </tr>\n",
       "    <tr>\n",
       "      <th>Install computer hardware.</th>\n",
       "      <td>1</td>\n",
       "      <td>57</td>\n",
       "    </tr>\n",
       "    <tr>\n",
       "      <th>Repair mechanical equipment.</th>\n",
       "      <td>1</td>\n",
       "      <td>48</td>\n",
       "    </tr>\n",
       "    <tr>\n",
       "      <th>Communicate with government agencies.</th>\n",
       "      <td>1</td>\n",
       "      <td>31</td>\n",
       "    </tr>\n",
       "    <tr>\n",
       "      <th>Coordinate activities of production personnel.</th>\n",
       "      <td>13</td>\n",
       "      <td>83</td>\n",
       "    </tr>\n",
       "    <tr>\n",
       "      <th>Direct criminal investigations.</th>\n",
       "      <td>3</td>\n",
       "      <td>68</td>\n",
       "    </tr>\n",
       "    <tr>\n",
       "      <th>Arrange insurance coverage.</th>\n",
       "      <td>2</td>\n",
       "      <td>137</td>\n",
       "    </tr>\n",
       "    <tr>\n",
       "      <th>Prescribe medications.</th>\n",
       "      <td>7</td>\n",
       "      <td>280</td>\n",
       "    </tr>\n",
       "  </tbody>\n",
       "</table>\n",
       "</div>"
      ],
      "text/plain": [
       "                                                    jd_seg  jd_ori\n",
       "Read materials to determine needed actions.             63    2389\n",
       "Investigate legal issues                                42     760\n",
       "Research product safety                                 66    1178\n",
       "Monitor equipment operation to ensure proper fu...      40     607\n",
       "Mark materials or objects for identification.           89    2024\n",
       "Test quality of materials or finished products.          3      43\n",
       "Inspect food products.                                  23     644\n",
       "Test electrical circuits or components for prop...      31    1028\n",
       "Calculate dimensions of workpieces, products, o...      46    1412\n",
       "Evaluate student work.                                  18     289\n",
       "Evaluate employee performance.                          11     203\n",
       "Verify mathematical calculations.                       93    2964\n",
       "Conduct financial or regulatory audits.                 60    1114\n",
       "Analyze website or related online data to track...      17     298\n",
       "Calculate shipping costs.                                5      53\n",
       "Diagnose dental conditions.                             12     756\n",
       "Design software applications.                           59    2355\n",
       "Design furniture.                                       19     612\n",
       "Create musical compositions, arrangements or sc...       1      32\n",
       "Choreograph dances.                                      7     154\n",
       "Schedule dining reservations.                            3      52\n",
       "Schedule agricultural or forestry work.                  1     194\n",
       "Plan trapping or hunting activities.                     7     193\n",
       "Clean tools or equipment.                                9     171\n",
       "Cultivate land.                                          4     154\n",
       "Cut fabrics.                                             2      18\n",
       "Slaughter animals.                                       0      29\n",
       "Drive trucks or truck-mounted equipment.                 4     102\n",
       "Install computer hardware.                               1      57\n",
       "Repair mechanical equipment.                             1      48\n",
       "Communicate with government agencies.                    1      31\n",
       "Coordinate activities of production personnel.          13      83\n",
       "Direct criminal investigations.                          3      68\n",
       "Arrange insurance coverage.                              2     137\n",
       "Prescribe medications.                                   7     280"
      ]
     },
     "execution_count": 42,
     "metadata": {},
     "output_type": "execute_result"
    }
   ],
   "source": [
    "df_map = {'jd_seg':seg_df, 'jd_ori': origin_df}\n",
    "import re\n",
    "import os\n",
    "import copy\n",
    "from tqdm import tqdm\n",
    "tqdm.pandas()\n",
    "cal_num = {}\n",
    "def split_sentence_by_uppercase(sentence):\n",
    "    # 在大写字母前插入空格\n",
    "    return re.sub(r'([A-Z])', r' \\1', sentence).strip()\n",
    "\n",
    "if not os.path.exists(f\"outputs/{step_turn}\"):\n",
    "    os.makedirs(f\"outputs/{step_turn}\")\n",
    "for df_type, df_bp in df_map.items():\n",
    "    all_df = []\n",
    "    cal_num[df_type] = {}\n",
    "    if os.path.exists(f'data/en/{step_turn}/{df_type}.parquet'):\n",
    "        df = pd.read_parquet(f'data/en/{step_turn}/{df_type}.parquet')\n",
    "    else:\n",
    "        df = copy.deepcopy(df_bp)\n",
    "        if df_type == 'jd_seg':\n",
    "            df['job_description'] = df['task']\n",
    "        df['job_description'] = df.apply(lambda x: [line for line in re.findall(r'[A-Z][^A-Z]*', split_sentence_by_uppercase(x['job_description']))] if type(x['job_description']) == type('') else [], axis=1)\n",
    "        df = df.explode('job_description')\n",
    "        df = df[~df['job_description'].isna()]\n",
    "        df['len'] = df['job_description'].apply(lambda x: len(x.split(' ')))\n",
    "        df = df[(df['len']>6) & (df['len']<20)]\n",
    "        df = df.drop_duplicates('job_description')\n",
    "        df.to_parquet(f'data/en/{step_turn}/{df_type}.parquet', index=None)\n",
    "\n",
    "    for task, task_rule in tqdm(task_rule_map.items(), total=len(task_rule_map)):\n",
    "        if len(task_rule) == 0:\n",
    "            continue            \n",
    "        df[task] = df['job_description'].apply(lambda x: len(re.findall(task_rule, x, re.IGNORECASE)) > 0)\n",
    "        sub_df = df[df[task]][['job_title', 'job_description']]\n",
    "        print(df_type, task, len(sub_df))\n",
    "        cal_num[df_type][task] = len(sub_df)\n",
    "        # sub_df = sub_df.sample(frac=1.0)\n",
    "        sub_df['task'] = task\n",
    "        all_df.append(sub_df)\n",
    "    all_df = pd.concat(all_df)[['task', 'job_title', 'job_description']].reset_index(drop=True)\n",
    "    all_df.to_excel(f'outputs/{step_turn}/key_extraction_{df_type}-{task_kind}.xlsx', index=None)\n",
    "cal_num = pd.DataFrame(cal_num)\n",
    "cal_num"
   ]
  },
  {
   "cell_type": "code",
   "execution_count": 8,
   "metadata": {},
   "outputs": [
    {
     "data": {
      "text/html": [
       "<div>\n",
       "<style scoped>\n",
       "    .dataframe tbody tr th:only-of-type {\n",
       "        vertical-align: middle;\n",
       "    }\n",
       "\n",
       "    .dataframe tbody tr th {\n",
       "        vertical-align: top;\n",
       "    }\n",
       "\n",
       "    .dataframe thead th {\n",
       "        text-align: right;\n",
       "    }\n",
       "</style>\n",
       "<table border=\"1\" class=\"dataframe\">\n",
       "  <thead>\n",
       "    <tr style=\"text-align: right;\">\n",
       "      <th></th>\n",
       "      <th>jd_seg</th>\n",
       "      <th>jd_ori</th>\n",
       "    </tr>\n",
       "  </thead>\n",
       "  <tbody>\n",
       "    <tr>\n",
       "      <th>Read materials to determine needed actions.</th>\n",
       "      <td>63</td>\n",
       "      <td>2389</td>\n",
       "    </tr>\n",
       "    <tr>\n",
       "      <th>Investigate legal issues</th>\n",
       "      <td>42</td>\n",
       "      <td>760</td>\n",
       "    </tr>\n",
       "    <tr>\n",
       "      <th>Research product safety</th>\n",
       "      <td>66</td>\n",
       "      <td>1178</td>\n",
       "    </tr>\n",
       "    <tr>\n",
       "      <th>Monitor equipment operation to ensure proper functioning.</th>\n",
       "      <td>40</td>\n",
       "      <td>607</td>\n",
       "    </tr>\n",
       "    <tr>\n",
       "      <th>Mark materials or objects for identification.</th>\n",
       "      <td>89</td>\n",
       "      <td>2024</td>\n",
       "    </tr>\n",
       "    <tr>\n",
       "      <th>Test quality of materials or finished products.</th>\n",
       "      <td>3</td>\n",
       "      <td>43</td>\n",
       "    </tr>\n",
       "    <tr>\n",
       "      <th>Inspect food products.</th>\n",
       "      <td>23</td>\n",
       "      <td>644</td>\n",
       "    </tr>\n",
       "    <tr>\n",
       "      <th>Test electrical circuits or components for proper functioning.</th>\n",
       "      <td>31</td>\n",
       "      <td>1028</td>\n",
       "    </tr>\n",
       "    <tr>\n",
       "      <th>Calculate dimensions of workpieces, products, or equipment.</th>\n",
       "      <td>46</td>\n",
       "      <td>1412</td>\n",
       "    </tr>\n",
       "    <tr>\n",
       "      <th>Evaluate student work.</th>\n",
       "      <td>18</td>\n",
       "      <td>289</td>\n",
       "    </tr>\n",
       "    <tr>\n",
       "      <th>Evaluate employee performance.</th>\n",
       "      <td>11</td>\n",
       "      <td>203</td>\n",
       "    </tr>\n",
       "    <tr>\n",
       "      <th>Verify mathematical calculations.</th>\n",
       "      <td>93</td>\n",
       "      <td>2964</td>\n",
       "    </tr>\n",
       "    <tr>\n",
       "      <th>Conduct financial or regulatory audits.</th>\n",
       "      <td>60</td>\n",
       "      <td>1114</td>\n",
       "    </tr>\n",
       "    <tr>\n",
       "      <th>Analyze website or related online data to track trends or usage.</th>\n",
       "      <td>17</td>\n",
       "      <td>298</td>\n",
       "    </tr>\n",
       "    <tr>\n",
       "      <th>Calculate shipping costs.</th>\n",
       "      <td>5</td>\n",
       "      <td>53</td>\n",
       "    </tr>\n",
       "    <tr>\n",
       "      <th>Diagnose dental conditions.</th>\n",
       "      <td>12</td>\n",
       "      <td>756</td>\n",
       "    </tr>\n",
       "    <tr>\n",
       "      <th>Design software applications.</th>\n",
       "      <td>59</td>\n",
       "      <td>2355</td>\n",
       "    </tr>\n",
       "    <tr>\n",
       "      <th>Design furniture.</th>\n",
       "      <td>19</td>\n",
       "      <td>612</td>\n",
       "    </tr>\n",
       "    <tr>\n",
       "      <th>Create musical compositions, arrangements or scores.</th>\n",
       "      <td>1</td>\n",
       "      <td>32</td>\n",
       "    </tr>\n",
       "    <tr>\n",
       "      <th>Choreograph dances.</th>\n",
       "      <td>7</td>\n",
       "      <td>154</td>\n",
       "    </tr>\n",
       "    <tr>\n",
       "      <th>Schedule dining reservations.</th>\n",
       "      <td>3</td>\n",
       "      <td>52</td>\n",
       "    </tr>\n",
       "    <tr>\n",
       "      <th>Schedule agricultural or forestry work.</th>\n",
       "      <td>1</td>\n",
       "      <td>194</td>\n",
       "    </tr>\n",
       "    <tr>\n",
       "      <th>Plan trapping or hunting activities.</th>\n",
       "      <td>7</td>\n",
       "      <td>193</td>\n",
       "    </tr>\n",
       "    <tr>\n",
       "      <th>Clean tools or equipment.</th>\n",
       "      <td>9</td>\n",
       "      <td>171</td>\n",
       "    </tr>\n",
       "    <tr>\n",
       "      <th>Cultivate land.</th>\n",
       "      <td>4</td>\n",
       "      <td>154</td>\n",
       "    </tr>\n",
       "    <tr>\n",
       "      <th>Cut fabrics.</th>\n",
       "      <td>2</td>\n",
       "      <td>18</td>\n",
       "    </tr>\n",
       "    <tr>\n",
       "      <th>Slaughter animals.</th>\n",
       "      <td>0</td>\n",
       "      <td>29</td>\n",
       "    </tr>\n",
       "    <tr>\n",
       "      <th>Drive trucks or truck-mounted equipment.</th>\n",
       "      <td>4</td>\n",
       "      <td>102</td>\n",
       "    </tr>\n",
       "    <tr>\n",
       "      <th>Install computer hardware.</th>\n",
       "      <td>1</td>\n",
       "      <td>57</td>\n",
       "    </tr>\n",
       "    <tr>\n",
       "      <th>Repair mechanical equipment.</th>\n",
       "      <td>1</td>\n",
       "      <td>48</td>\n",
       "    </tr>\n",
       "    <tr>\n",
       "      <th>Communicate with government agencies.</th>\n",
       "      <td>1</td>\n",
       "      <td>31</td>\n",
       "    </tr>\n",
       "    <tr>\n",
       "      <th>Coordinate activities of production personnel.</th>\n",
       "      <td>13</td>\n",
       "      <td>83</td>\n",
       "    </tr>\n",
       "    <tr>\n",
       "      <th>Direct criminal investigations.</th>\n",
       "      <td>3</td>\n",
       "      <td>68</td>\n",
       "    </tr>\n",
       "    <tr>\n",
       "      <th>Arrange insurance coverage.</th>\n",
       "      <td>2</td>\n",
       "      <td>137</td>\n",
       "    </tr>\n",
       "    <tr>\n",
       "      <th>Prescribe medications.</th>\n",
       "      <td>7</td>\n",
       "      <td>280</td>\n",
       "    </tr>\n",
       "  </tbody>\n",
       "</table>\n",
       "</div>"
      ],
      "text/plain": [
       "                                                    jd_seg  jd_ori\n",
       "Read materials to determine needed actions.             63    2389\n",
       "Investigate legal issues                                42     760\n",
       "Research product safety                                 66    1178\n",
       "Monitor equipment operation to ensure proper fu...      40     607\n",
       "Mark materials or objects for identification.           89    2024\n",
       "Test quality of materials or finished products.          3      43\n",
       "Inspect food products.                                  23     644\n",
       "Test electrical circuits or components for prop...      31    1028\n",
       "Calculate dimensions of workpieces, products, o...      46    1412\n",
       "Evaluate student work.                                  18     289\n",
       "Evaluate employee performance.                          11     203\n",
       "Verify mathematical calculations.                       93    2964\n",
       "Conduct financial or regulatory audits.                 60    1114\n",
       "Analyze website or related online data to track...      17     298\n",
       "Calculate shipping costs.                                5      53\n",
       "Diagnose dental conditions.                             12     756\n",
       "Design software applications.                           59    2355\n",
       "Design furniture.                                       19     612\n",
       "Create musical compositions, arrangements or sc...       1      32\n",
       "Choreograph dances.                                      7     154\n",
       "Schedule dining reservations.                            3      52\n",
       "Schedule agricultural or forestry work.                  1     194\n",
       "Plan trapping or hunting activities.                     7     193\n",
       "Clean tools or equipment.                                9     171\n",
       "Cultivate land.                                          4     154\n",
       "Cut fabrics.                                             2      18\n",
       "Slaughter animals.                                       0      29\n",
       "Drive trucks or truck-mounted equipment.                 4     102\n",
       "Install computer hardware.                               1      57\n",
       "Repair mechanical equipment.                             1      48\n",
       "Communicate with government agencies.                    1      31\n",
       "Coordinate activities of production personnel.          13      83\n",
       "Direct criminal investigations.                          3      68\n",
       "Arrange insurance coverage.                              2     137\n",
       "Prescribe medications.                                   7     280"
      ]
     },
     "execution_count": 8,
     "metadata": {},
     "output_type": "execute_result"
    }
   ],
   "source": [
    "cal_num = {}\n",
    "for df_type, df_bp in df_map.items():\n",
    "    df = pd.read_excel(f'outputs/{step_turn}/key_extraction_{df_type}.xlsx')\n",
    "    cal_num[df_type] = {}\n",
    "    for task, task_rule in task_rule_map.items():\n",
    "        if len(task_rule) == 0:\n",
    "            continue   \n",
    "        cal_num[df_type][task] = len(df[df['task']==task])\n",
    "cal_num = pd.DataFrame(cal_num)\n",
    "cal_num"
   ]
  },
  {
   "cell_type": "code",
   "execution_count": 9,
   "metadata": {},
   "outputs": [
    {
     "ename": "TypeError",
     "evalue": "first argument must be an iterable of pandas objects, you passed an object of type \"DataFrame\"",
     "output_type": "error",
     "traceback": [
      "\u001b[0;31m---------------------------------------------------------------------------\u001b[0m",
      "\u001b[0;31mTypeError\u001b[0m                                 Traceback (most recent call last)",
      "Cell \u001b[0;32mIn[9], line 13\u001b[0m\n\u001b[1;32m     11\u001b[0m         df_group \u001b[38;5;241m=\u001b[39m df\u001b[38;5;241m.\u001b[39mgroupby(\u001b[38;5;124m'\u001b[39m\u001b[38;5;124mtask\u001b[39m\u001b[38;5;124m'\u001b[39m)\u001b[38;5;241m.\u001b[39magg(\u001b[38;5;28mlist\u001b[39m)\n\u001b[1;32m     12\u001b[0m         df_group[\u001b[38;5;124m'\u001b[39m\u001b[38;5;124mlen\u001b[39m\u001b[38;5;124m'\u001b[39m] \u001b[38;5;241m=\u001b[39m df_group[\u001b[38;5;124m'\u001b[39m\u001b[38;5;124mjob_description\u001b[39m\u001b[38;5;124m'\u001b[39m]\u001b[38;5;241m.\u001b[39mapply(\u001b[38;5;28mlen\u001b[39m)\n\u001b[0;32m---> 13\u001b[0m         final_df \u001b[38;5;241m=\u001b[39m \u001b[43mpd\u001b[49m\u001b[38;5;241;43m.\u001b[39;49m\u001b[43mconcat\u001b[49m\u001b[43m(\u001b[49m\u001b[43mfinal_df\u001b[49m\u001b[43m)\u001b[49m\n\u001b[1;32m     14\u001b[0m cal_num \u001b[38;5;241m=\u001b[39m pd\u001b[38;5;241m.\u001b[39mDataFrame(cal_num)\n\u001b[1;32m     15\u001b[0m cal_num\n",
      "File \u001b[0;32m~/miniconda3/envs/py312/lib/python3.12/site-packages/pandas/core/reshape/concat.py:382\u001b[0m, in \u001b[0;36mconcat\u001b[0;34m(objs, axis, join, ignore_index, keys, levels, names, verify_integrity, sort, copy)\u001b[0m\n\u001b[1;32m    379\u001b[0m \u001b[38;5;28;01melif\u001b[39;00m copy \u001b[38;5;129;01mand\u001b[39;00m using_copy_on_write():\n\u001b[1;32m    380\u001b[0m     copy \u001b[38;5;241m=\u001b[39m \u001b[38;5;28;01mFalse\u001b[39;00m\n\u001b[0;32m--> 382\u001b[0m op \u001b[38;5;241m=\u001b[39m \u001b[43m_Concatenator\u001b[49m\u001b[43m(\u001b[49m\n\u001b[1;32m    383\u001b[0m \u001b[43m    \u001b[49m\u001b[43mobjs\u001b[49m\u001b[43m,\u001b[49m\n\u001b[1;32m    384\u001b[0m \u001b[43m    \u001b[49m\u001b[43maxis\u001b[49m\u001b[38;5;241;43m=\u001b[39;49m\u001b[43maxis\u001b[49m\u001b[43m,\u001b[49m\n\u001b[1;32m    385\u001b[0m \u001b[43m    \u001b[49m\u001b[43mignore_index\u001b[49m\u001b[38;5;241;43m=\u001b[39;49m\u001b[43mignore_index\u001b[49m\u001b[43m,\u001b[49m\n\u001b[1;32m    386\u001b[0m \u001b[43m    \u001b[49m\u001b[43mjoin\u001b[49m\u001b[38;5;241;43m=\u001b[39;49m\u001b[43mjoin\u001b[49m\u001b[43m,\u001b[49m\n\u001b[1;32m    387\u001b[0m \u001b[43m    \u001b[49m\u001b[43mkeys\u001b[49m\u001b[38;5;241;43m=\u001b[39;49m\u001b[43mkeys\u001b[49m\u001b[43m,\u001b[49m\n\u001b[1;32m    388\u001b[0m \u001b[43m    \u001b[49m\u001b[43mlevels\u001b[49m\u001b[38;5;241;43m=\u001b[39;49m\u001b[43mlevels\u001b[49m\u001b[43m,\u001b[49m\n\u001b[1;32m    389\u001b[0m \u001b[43m    \u001b[49m\u001b[43mnames\u001b[49m\u001b[38;5;241;43m=\u001b[39;49m\u001b[43mnames\u001b[49m\u001b[43m,\u001b[49m\n\u001b[1;32m    390\u001b[0m \u001b[43m    \u001b[49m\u001b[43mverify_integrity\u001b[49m\u001b[38;5;241;43m=\u001b[39;49m\u001b[43mverify_integrity\u001b[49m\u001b[43m,\u001b[49m\n\u001b[1;32m    391\u001b[0m \u001b[43m    \u001b[49m\u001b[43mcopy\u001b[49m\u001b[38;5;241;43m=\u001b[39;49m\u001b[43mcopy\u001b[49m\u001b[43m,\u001b[49m\n\u001b[1;32m    392\u001b[0m \u001b[43m    \u001b[49m\u001b[43msort\u001b[49m\u001b[38;5;241;43m=\u001b[39;49m\u001b[43msort\u001b[49m\u001b[43m,\u001b[49m\n\u001b[1;32m    393\u001b[0m \u001b[43m\u001b[49m\u001b[43m)\u001b[49m\n\u001b[1;32m    395\u001b[0m \u001b[38;5;28;01mreturn\u001b[39;00m op\u001b[38;5;241m.\u001b[39mget_result()\n",
      "File \u001b[0;32m~/miniconda3/envs/py312/lib/python3.12/site-packages/pandas/core/reshape/concat.py:419\u001b[0m, in \u001b[0;36m_Concatenator.__init__\u001b[0;34m(self, objs, axis, join, keys, levels, names, ignore_index, verify_integrity, copy, sort)\u001b[0m\n\u001b[1;32m    405\u001b[0m \u001b[38;5;28;01mdef\u001b[39;00m \u001b[38;5;21m__init__\u001b[39m(\n\u001b[1;32m    406\u001b[0m     \u001b[38;5;28mself\u001b[39m,\n\u001b[1;32m    407\u001b[0m     objs: Iterable[Series \u001b[38;5;241m|\u001b[39m DataFrame] \u001b[38;5;241m|\u001b[39m Mapping[HashableT, Series \u001b[38;5;241m|\u001b[39m DataFrame],\n\u001b[0;32m   (...)\u001b[0m\n\u001b[1;32m    416\u001b[0m     sort: \u001b[38;5;28mbool\u001b[39m \u001b[38;5;241m=\u001b[39m \u001b[38;5;28;01mFalse\u001b[39;00m,\n\u001b[1;32m    417\u001b[0m ) \u001b[38;5;241m-\u001b[39m\u001b[38;5;241m>\u001b[39m \u001b[38;5;28;01mNone\u001b[39;00m:\n\u001b[1;32m    418\u001b[0m     \u001b[38;5;28;01mif\u001b[39;00m \u001b[38;5;28misinstance\u001b[39m(objs, (ABCSeries, ABCDataFrame, \u001b[38;5;28mstr\u001b[39m)):\n\u001b[0;32m--> 419\u001b[0m         \u001b[38;5;28;01mraise\u001b[39;00m \u001b[38;5;167;01mTypeError\u001b[39;00m(\n\u001b[1;32m    420\u001b[0m             \u001b[38;5;124m\"\u001b[39m\u001b[38;5;124mfirst argument must be an iterable of pandas \u001b[39m\u001b[38;5;124m\"\u001b[39m\n\u001b[1;32m    421\u001b[0m             \u001b[38;5;124mf\u001b[39m\u001b[38;5;124m'\u001b[39m\u001b[38;5;124mobjects, you passed an object of type \u001b[39m\u001b[38;5;124m\"\u001b[39m\u001b[38;5;132;01m{\u001b[39;00m\u001b[38;5;28mtype\u001b[39m(objs)\u001b[38;5;241m.\u001b[39m\u001b[38;5;18m__name__\u001b[39m\u001b[38;5;132;01m}\u001b[39;00m\u001b[38;5;124m\"\u001b[39m\u001b[38;5;124m'\u001b[39m\n\u001b[1;32m    422\u001b[0m         )\n\u001b[1;32m    424\u001b[0m     \u001b[38;5;28;01mif\u001b[39;00m join \u001b[38;5;241m==\u001b[39m \u001b[38;5;124m\"\u001b[39m\u001b[38;5;124mouter\u001b[39m\u001b[38;5;124m\"\u001b[39m:\n\u001b[1;32m    425\u001b[0m         \u001b[38;5;28mself\u001b[39m\u001b[38;5;241m.\u001b[39mintersect \u001b[38;5;241m=\u001b[39m \u001b[38;5;28;01mFalse\u001b[39;00m\n",
      "\u001b[0;31mTypeError\u001b[0m: first argument must be an iterable of pandas objects, you passed an object of type \"DataFrame\""
     ]
    }
   ],
   "source": [
    "import pandas as pd\n",
    "cal_num = {}\n",
    "final_df = None\n",
    "for df_type, df_bp in df_map.items():\n",
    "    df = pd.read_excel(f'outputs/{step_turn}/key_extraction_{df_type}.xlsx')\n",
    "    if final_df is None:\n",
    "        final_df = df\n",
    "    else:\n",
    "        final_df_group = final_df.groupby('task').agg(list)\n",
    "        final_df_group['len'] = final_df_group['job_description'].apply(len)\n",
    "        df_group = df.groupby('task').agg(list)\n",
    "        df_group['len'] = df_group['job_description'].apply(len)\n",
    "        final_df = pd.concat(final_df)\n",
    "cal_num = pd.DataFrame(cal_num)\n",
    "cal_num"
   ]
  },
  {
   "cell_type": "code",
   "execution_count": null,
   "metadata": {},
   "outputs": [],
   "source": [
    "# tqdm.pandas()\n",
    "# all_df = pd.read_excel('outputs/key_extraction_fromjd.xlsx')\n",
    "# all_df['extract_task'] = all_df.progress_apply(lambda x: [line for line in re.findall(r'[A-Z][^A-Z]*', split_sentence_by_uppercase(x['job_description'])) if re.search(rules[task_list.index(x['task'])], line, re.IGNORECASE)] if type(x['job_description']) == type('') else [], axis=1)\n",
    "# all_df.to_excel('outputs/key_extraction_fromjd_annotated.xlsx', index=None)\n",
    "# all_df_ch = pd.read_excel('outputs/key_extraction-ch.xlsx')\n",
    "# final_df = pd.concat([all_df, all_df_ch], axis=1)\n",
    "# final_df.to_excel('outputs/key_extraction-merge.xlsx', index=None)\n",
    "# final_df"
   ]
  }
 ],
 "metadata": {
  "kernelspec": {
   "display_name": "py312",
   "language": "python",
   "name": "python3"
  },
  "language_info": {
   "codemirror_mode": {
    "name": "ipython",
    "version": 3
   },
   "file_extension": ".py",
   "mimetype": "text/x-python",
   "name": "python",
   "nbconvert_exporter": "python",
   "pygments_lexer": "ipython3",
   "version": "3.12.4"
  }
 },
 "nbformat": 4,
 "nbformat_minor": 2
}
