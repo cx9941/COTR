{
 "cells": [
  {
   "cell_type": "code",
   "execution_count": 1,
   "metadata": {},
   "outputs": [],
   "source": [
    "import pandas as pd\n",
    "\n",
    "dataset_name = 'eu'\n",
    "df = pd.read_excel(f'results/2e-05_32_0.8/{dataset_name}.xlsx')"
   ]
  },
  {
   "cell_type": "code",
   "execution_count": 2,
   "metadata": {},
   "outputs": [],
   "source": [
    "def gen(x):\n",
    "    ans = f\"Now given 100 specific task descriptions and 1 specific position, \\n\"\n",
    "    for i in range(100):\n",
    "        ans += f\"{i}.\" + x[f\"task{i}\"] + \"\\n\"\n",
    "    ans += f\"corresponding responsibilities:\\n{x['job_description']}\\n\"\n",
    "    ans += \"Please select the 10 task descriptions that best match the corresponding responsibilities of the position from the above 100 task descriptions (sorted from high to low in terms of degree of conformity). \\n\"\n",
    "    return ans\n",
    "df['prompt'] = df.apply(lambda x: gen(x), axis=1) "
   ]
  },
  {
   "cell_type": "code",
   "execution_count": 3,
   "metadata": {},
   "outputs": [],
   "source": [
    "for i in range(100):\n",
    "    with open(f'temp/{i}.txt', 'w') as w:\n",
    "        w.write(df['prompt'][i])"
   ]
  }
 ],
 "metadata": {
  "kernelspec": {
   "display_name": "py312",
   "language": "python",
   "name": "python3"
  },
  "language_info": {
   "codemirror_mode": {
    "name": "ipython",
    "version": 3
   },
   "file_extension": ".py",
   "mimetype": "text/x-python",
   "name": "python",
   "nbconvert_exporter": "python",
   "pygments_lexer": "ipython3",
   "version": "3.12.4"
  }
 },
 "nbformat": 4,
 "nbformat_minor": 2
}
