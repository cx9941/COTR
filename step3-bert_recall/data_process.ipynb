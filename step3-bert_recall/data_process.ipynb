{
 "cells": [
  {
   "cell_type": "code",
   "execution_count": 1,
   "metadata": {},
   "outputs": [
    {
     "name": "stdout",
     "output_type": "stream",
     "text": [
      "en 7781\n",
      "eu 6370\n",
      "jp 2968\n"
     ]
    }
   ],
   "source": [
    "import pandas as pd\n",
    "for dataset_name in ['en', 'eu', 'jp']:\n",
    "    root_dir = 'step1-job_task_extraction' if dataset_name != 'jp' else 'step2-data_filter'\n",
    "    job_description = pd.read_excel(f'../{root_dir}/results/{dataset_name}/{dataset_name}-job_re_description.xlsx')\n",
    "    max_len = {\"en\": 50, \"eu\":50, \"jp\": 100}\n",
    "    min_len = {\"en\": 20, \"eu\":5, \"jp\": 5}\n",
    "    job_description = job_description[(job_description['task_len']<max_len[dataset_name]) & (job_description['task_len']>min_len[dataset_name])]\n",
    "    job_description = job_description[['job_title', 'task']]\n",
    "    job_description.columns = ['job_title', 'job_description']\n",
    "    job_description.to_csv(f'data/{dataset_name}/{dataset_name}.csv', index=None, sep='\\t')\n",
    "    print(dataset_name, len(job_description))\n",
    "    job_description"
   ]
  },
  {
   "cell_type": "code",
   "execution_count": 9,
   "metadata": {},
   "outputs": [],
   "source": [
    "import pandas as pd\n",
    "df = pd.read_csv('../step5-close_llm_baseline/results/en/en-gpt.csv')[['job_title', 'job_description', 'task']]\n",
    "df.columns = ['job_title', 'job_description', 'DWA Title']\n",
    "dwa_df = pd.read_excel('data/en/DWA Reference.xlsx')[['Element Name', 'IWA Title', 'DWA Title']]\n",
    "df = pd.merge(df, dwa_df)\n",
    "df.to_csv('data/en/eval_en.csv', index=None, sep='\\t')"
   ]
  }
 ],
 "metadata": {
  "kernelspec": {
   "display_name": "py312",
   "language": "python",
   "name": "python3"
  },
  "language_info": {
   "codemirror_mode": {
    "name": "ipython",
    "version": 3
   },
   "file_extension": ".py",
   "mimetype": "text/x-python",
   "name": "python",
   "nbconvert_exporter": "python",
   "pygments_lexer": "ipython3",
   "version": "3.12.4"
  }
 },
 "nbformat": 4,
 "nbformat_minor": 2
}
