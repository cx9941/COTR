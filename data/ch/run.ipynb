{
 "cells": [
  {
   "cell_type": "code",
   "execution_count": 1,
   "metadata": {},
   "outputs": [
    {
     "name": "stderr",
     "output_type": "stream",
     "text": [
      "/data/chenxi/miniconda3/envs/py312/lib/python3.12/site-packages/tqdm/auto.py:21: TqdmWarning: IProgress not found. Please update jupyter and ipywidgets. See https://ipywidgets.readthedocs.io/en/stable/user_install.html\n",
      "  from .autonotebook import tqdm as notebook_tqdm\n",
      "/data/chenxi/miniconda3/envs/py312/lib/python3.12/site-packages/transformers/tokenization_utils_base.py:1601: FutureWarning: `clean_up_tokenization_spaces` was not set. It will be set to `True` by default. This behavior will be depracted in transformers v4.45, and will be then set to `False` by default. For more details check this issue: https://github.com/huggingface/transformers/issues/31884\n",
      "  warnings.warn(\n"
     ]
    },
    {
     "data": {
      "text/html": [
       "<div>\n",
       "<style scoped>\n",
       "    .dataframe tbody tr th:only-of-type {\n",
       "        vertical-align: middle;\n",
       "    }\n",
       "\n",
       "    .dataframe tbody tr th {\n",
       "        vertical-align: top;\n",
       "    }\n",
       "\n",
       "    .dataframe thead th {\n",
       "        text-align: right;\n",
       "    }\n",
       "</style>\n",
       "<table border=\"1\" class=\"dataframe\">\n",
       "  <thead>\n",
       "    <tr style=\"text-align: right;\">\n",
       "      <th></th>\n",
       "      <th>text</th>\n",
       "    </tr>\n",
       "  </thead>\n",
       "  <tbody>\n",
       "    <tr>\n",
       "      <th>2</th>\n",
       "      <td>1.以用户增长为导向，对数据进行深度挖掘和分析，为提升增长关键指标提供落地性建议；2.能够持...</td>\n",
       "    </tr>\n",
       "    <tr>\n",
       "      <th>4</th>\n",
       "      <td>职责描述：1、负责管理数据分析团队，并做好日常管理工作；2、带领团队进行数据统计分析挖掘、发...</td>\n",
       "    </tr>\n",
       "    <tr>\n",
       "      <th>4</th>\n",
       "      <td>末双休，法定节假日休，带薪年假和司龄年假；6.年终奖。地址：武汉市汉阳沌口经济开发区创业路6...</td>\n",
       "    </tr>\n",
       "    <tr>\n",
       "      <th>5</th>\n",
       "      <td>岗位职责：</td>\n",
       "    </tr>\n",
       "    <tr>\n",
       "      <th>9</th>\n",
       "      <td>1、制定日常常规数据分析，活动数据分析，公司战略调整数据分析模板，提升数据的实用性；2、根据...</td>\n",
       "    </tr>\n",
       "    <tr>\n",
       "      <th>...</th>\n",
       "      <td>...</td>\n",
       "    </tr>\n",
       "    <tr>\n",
       "      <th>31031</th>\n",
       "      <td>职责描述：1.性格开朗，好学，对数据敏感，有责任心，对淘宝、抖音平台略有了解，能很好的将公司...</td>\n",
       "    </tr>\n",
       "    <tr>\n",
       "      <th>31032</th>\n",
       "      <td>世茂人事服务岗（ESC派驻岗位）岗位目的：能够按照既定的世茂共享中心服务要求和流程完成工作，...</td>\n",
       "    </tr>\n",
       "    <tr>\n",
       "      <th>31032</th>\n",
       "      <td>.具备团队合作精神，很好的沟通能力和协调能力7.具备很强的责任心，工作地点：深圳市南山区兴海...</td>\n",
       "    </tr>\n",
       "    <tr>\n",
       "      <th>31033</th>\n",
       "      <td>1、协助管理销售部工作，解决销售部日常问题，负责汇总及分析销售员工的数据分析，保证数据的准确...</td>\n",
       "    </tr>\n",
       "    <tr>\n",
       "      <th>31034</th>\n",
       "      <td>岗位职责：1、管理社群班集体，引导小朋友们及时打卡完成阶段课程；2、维护社群日常运营，策划线...</td>\n",
       "    </tr>\n",
       "  </tbody>\n",
       "</table>\n",
       "<p>33902 rows × 1 columns</p>\n",
       "</div>"
      ],
      "text/plain": [
       "                                                    text\n",
       "2      1.以用户增长为导向，对数据进行深度挖掘和分析，为提升增长关键指标提供落地性建议；2.能够持...\n",
       "4      职责描述：1、负责管理数据分析团队，并做好日常管理工作；2、带领团队进行数据统计分析挖掘、发...\n",
       "4      末双休，法定节假日休，带薪年假和司龄年假；6.年终奖。地址：武汉市汉阳沌口经济开发区创业路6...\n",
       "5                                                  岗位职责：\n",
       "9      1、制定日常常规数据分析，活动数据分析，公司战略调整数据分析模板，提升数据的实用性；2、根据...\n",
       "...                                                  ...\n",
       "31031  职责描述：1.性格开朗，好学，对数据敏感，有责任心，对淘宝、抖音平台略有了解，能很好的将公司...\n",
       "31032  世茂人事服务岗（ESC派驻岗位）岗位目的：能够按照既定的世茂共享中心服务要求和流程完成工作，...\n",
       "31032  .具备团队合作精神，很好的沟通能力和协调能力7.具备很强的责任心，工作地点：深圳市南山区兴海...\n",
       "31033  1、协助管理销售部工作，解决销售部日常问题，负责汇总及分析销售员工的数据分析，保证数据的准确...\n",
       "31034  岗位职责：1、管理社群班集体，引导小朋友们及时打卡完成阶段课程；2、维护社群日常运营，策划线...\n",
       "\n",
       "[33902 rows x 1 columns]"
      ]
     },
     "execution_count": 1,
     "metadata": {},
     "output_type": "execute_result"
    }
   ],
   "source": [
    "import pandas as pd\n",
    "from transformers import AutoTokenizer\n",
    "tokenizer = AutoTokenizer.from_pretrained('/data/chenxi/.cache/modelscope/hub/tiansz/bert-base-chinese/', do_lower_case=True)\n",
    "vocab_list = list(tokenizer.get_vocab().keys())\n",
    "vocab_str = ''.join(vocab_list)\n",
    "def filter_string(string1):\n",
    "    # 保留string1中在string2中的字符\n",
    "    return ''.join([char for char in string1 if char in vocab_str])\n",
    "\n",
    "df = pd.read_csv('raw_data/data.csv', encoding='gbk', header=None)\n",
    "df['text'] = df[9].apply(eval)\n",
    "df = df[['text']]\n",
    "\n",
    "df['text'] = df['text'].apply(lambda x: '\\n'.join(x))\n",
    "df = df[df['text'].apply(type)==type('')]\n",
    "df['text'] = df['text'].apply(filter_string)\n",
    "df['text'] = df['text'].apply(lambda x: [x[i*510:(i+1)* 510] for i in range(len(x) // 510 + 1)])\n",
    "df = df.explode('text')\n",
    "df = df[df['text'].apply(len)>0]\n",
    "df"
   ]
  },
  {
   "cell_type": "code",
   "execution_count": 2,
   "metadata": {},
   "outputs": [],
   "source": [
    "df.to_csv('all_data.csv', index=None, sep='\\t')"
   ]
  }
 ],
 "metadata": {
  "kernelspec": {
   "display_name": "job-sdf",
   "language": "python",
   "name": "python3"
  },
  "language_info": {
   "codemirror_mode": {
    "name": "ipython",
    "version": 3
   },
   "file_extension": ".py",
   "mimetype": "text/x-python",
   "name": "python",
   "nbconvert_exporter": "python",
   "pygments_lexer": "ipython3",
   "version": "3.12.4"
  }
 },
 "nbformat": 4,
 "nbformat_minor": 2
}
