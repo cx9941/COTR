{
 "cells": [
  {
   "cell_type": "code",
   "execution_count": 1,
   "metadata": {},
   "outputs": [],
   "source": [
    "import pandas as pd\n",
    "dataset_name = 'eu'\n",
    "job_description = pd.read_csv(f'../data/{dataset_name}/job_description.csv', sep='\\t')\n",
    "task_occupation = pd.read_csv(f'../data/{dataset_name}/task_occupation.csv', sep='\\t')"
   ]
  },
  {
   "cell_type": "code",
   "execution_count": 2,
   "metadata": {},
   "outputs": [],
   "source": [
    "import os\n",
    "if not os.path.exists(f'data/{dataset_name}'):\n",
    "    os.makedirs(f'data/{dataset_name}')\n",
    "job_description[['title']].drop_duplicates().to_csv(f'data/{dataset_name}/title.csv', index=None, sep='\\t')\n",
    "task_occupation[['occupation']].drop_duplicates().to_csv(f'data/{dataset_name}/occupation.csv', index=None, sep='\\t')"
   ]
  }
 ],
 "metadata": {
  "kernelspec": {
   "display_name": "py37",
   "language": "python",
   "name": "python3"
  },
  "language_info": {
   "codemirror_mode": {
    "name": "ipython",
    "version": 3
   },
   "file_extension": ".py",
   "mimetype": "text/x-python",
   "name": "python",
   "nbconvert_exporter": "python",
   "pygments_lexer": "ipython3",
   "version": "3.12.5"
  }
 },
 "nbformat": 4,
 "nbformat_minor": 2
}
