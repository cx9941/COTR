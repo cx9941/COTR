{
 "cells": [
  {
   "cell_type": "code",
   "execution_count": 7,
   "metadata": {},
   "outputs": [
    {
     "data": {
      "text/html": [
       "<div>\n",
       "<style scoped>\n",
       "    .dataframe tbody tr th:only-of-type {\n",
       "        vertical-align: middle;\n",
       "    }\n",
       "\n",
       "    .dataframe tbody tr th {\n",
       "        vertical-align: top;\n",
       "    }\n",
       "\n",
       "    .dataframe thead th {\n",
       "        text-align: right;\n",
       "    }\n",
       "</style>\n",
       "<table border=\"1\" class=\"dataframe\">\n",
       "  <thead>\n",
       "    <tr style=\"text-align: right;\">\n",
       "      <th></th>\n",
       "      <th>en-hits@5</th>\n",
       "      <th>en-hits@10</th>\n",
       "      <th>eu-hits@5</th>\n",
       "      <th>eu-hits@10</th>\n",
       "      <th>jp-hits@5</th>\n",
       "      <th>jp-hits@10</th>\n",
       "    </tr>\n",
       "  </thead>\n",
       "  <tbody>\n",
       "    <tr>\n",
       "      <th>baichuan</th>\n",
       "      <td>0.044776</td>\n",
       "      <td>0.044776</td>\n",
       "      <td>NaN</td>\n",
       "      <td>NaN</td>\n",
       "      <td>0.000000</td>\n",
       "      <td>0.000000</td>\n",
       "    </tr>\n",
       "    <tr>\n",
       "      <th>baichuan-sft</th>\n",
       "      <td>0.679104</td>\n",
       "      <td>0.701493</td>\n",
       "      <td>0.495050</td>\n",
       "      <td>0.504950</td>\n",
       "      <td>0.009615</td>\n",
       "      <td>0.009615</td>\n",
       "    </tr>\n",
       "    <tr>\n",
       "      <th>nanbeige</th>\n",
       "      <td>0.253731</td>\n",
       "      <td>0.365672</td>\n",
       "      <td>0.306931</td>\n",
       "      <td>0.366337</td>\n",
       "      <td>0.000000</td>\n",
       "      <td>0.000000</td>\n",
       "    </tr>\n",
       "    <tr>\n",
       "      <th>nanbeige-sft</th>\n",
       "      <td>0.708955</td>\n",
       "      <td>0.738806</td>\n",
       "      <td>NaN</td>\n",
       "      <td>NaN</td>\n",
       "      <td>NaN</td>\n",
       "      <td>NaN</td>\n",
       "    </tr>\n",
       "  </tbody>\n",
       "</table>\n",
       "</div>"
      ],
      "text/plain": [
       "              en-hits@5  en-hits@10  eu-hits@5  eu-hits@10  jp-hits@5  \\\n",
       "baichuan       0.044776    0.044776        NaN         NaN   0.000000   \n",
       "baichuan-sft   0.679104    0.701493   0.495050    0.504950   0.009615   \n",
       "nanbeige       0.253731    0.365672   0.306931    0.366337   0.000000   \n",
       "nanbeige-sft   0.708955    0.738806        NaN         NaN        NaN   \n",
       "\n",
       "              jp-hits@10  \n",
       "baichuan        0.000000  \n",
       "baichuan-sft    0.009615  \n",
       "nanbeige        0.000000  \n",
       "nanbeige-sft         NaN  "
      ]
     },
     "execution_count": 7,
     "metadata": {},
     "output_type": "execute_result"
    }
   ],
   "source": [
    "import pandas as pd\n",
    "import os\n",
    "import json\n",
    "metric_results = {}\n",
    "for dataset_naem in ['en', 'eu', 'jp']:\n",
    "    for model_name in ['baichuan', 'baichuan-sft', 'llama', 'llama-sft', 'nanbeige', 'nanbeige-sft']:\n",
    "        for seed in [0]:\n",
    "            if os.path.exists(f'metrics/{dataset_naem}/{model_name}/seed{seed}/thred_50.json'):\n",
    "                temp = json.load(open(f'metrics/{dataset_naem}/{model_name}/seed{seed}/thred_50.json', 'r'))\n",
    "                for metric, value in temp.items():\n",
    "                    if f\"{dataset_naem}-{metric}\" not in metric_results:\n",
    "                        metric_results[f\"{dataset_naem}-{metric}\"] = {}\n",
    "                    metric_results[f\"{dataset_naem}-{metric}\"][model_name] = value\n",
    "pd.DataFrame(metric_results)"
   ]
  }
 ],
 "metadata": {
  "kernelspec": {
   "display_name": "py312",
   "language": "python",
   "name": "python3"
  },
  "language_info": {
   "codemirror_mode": {
    "name": "ipython",
    "version": 3
   },
   "file_extension": ".py",
   "mimetype": "text/x-python",
   "name": "python",
   "nbconvert_exporter": "python",
   "pygments_lexer": "ipython3",
   "version": "3.12.4"
  }
 },
 "nbformat": 4,
 "nbformat_minor": 2
}
