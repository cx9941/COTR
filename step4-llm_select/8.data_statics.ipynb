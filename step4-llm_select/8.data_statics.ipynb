{
 "cells": [
  {
   "cell_type": "code",
   "execution_count": 2,
   "metadata": {},
   "outputs": [
    {
     "name": "stdout",
     "output_type": "stream",
     "text": [
      "eu 652 1942\n",
      "en 1584 2204\n",
      "jp 530 1221\n"
     ]
    }
   ],
   "source": [
    "import pandas as pd\n",
    "for dataset_name in ['eu', 'en', 'jp']:\n",
    "    df = pd.read_csv((f'results/{dataset_name}/{dataset_name}_filter.csv'))\n",
    "    print(dataset_name, df['job_title'].nunique(), df['job_description'].nunique())"
   ]
  }
 ],
 "metadata": {
  "kernelspec": {
   "display_name": "py312",
   "language": "python",
   "name": "python3"
  },
  "language_info": {
   "codemirror_mode": {
    "name": "ipython",
    "version": 3
   },
   "file_extension": ".py",
   "mimetype": "text/x-python",
   "name": "python",
   "nbconvert_exporter": "python",
   "pygments_lexer": "ipython3",
   "version": "3.12.4"
  }
 },
 "nbformat": 4,
 "nbformat_minor": 2
}
