{
 "cells": [
  {
   "cell_type": "code",
   "execution_count": 1,
   "metadata": {},
   "outputs": [],
   "source": [
    "import pandas as pd\n",
    "df = pd.read_csv('task_art.csv', sep='\\t')\n",
    "df = df[['occupation', 'task']].sort_values(['occupation', 'task'])\n",
    "df = df[(df['task'].apply(type)==type(''))]\n",
    "df['task'] = df['task'].apply(lambda x: x.replace('.', '').replace('\\n', ''))\n",
    "df = df[df['task'].apply(len)> 0]\n",
    "df = df.drop_duplicates('task')\n",
    "df.to_csv('../data/en/task.csv', index=None, sep='\\t')"
   ]
  }
 ],
 "metadata": {
  "kernelspec": {
   "display_name": "py312",
   "language": "python",
   "name": "python3"
  },
  "language_info": {
   "codemirror_mode": {
    "name": "ipython",
    "version": 3
   },
   "file_extension": ".py",
   "mimetype": "text/x-python",
   "name": "python",
   "nbconvert_exporter": "python",
   "pygments_lexer": "ipython3",
   "version": "3.12.4"
  }
 },
 "nbformat": 4,
 "nbformat_minor": 2
}
